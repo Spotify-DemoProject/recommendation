{
 "cells": [
  {
   "cell_type": "code",
   "execution_count": 3,
   "metadata": {},
   "outputs": [],
   "source": [
    "# DEFINE FUNCTIONS <<<<<<<<<<<<<<<<<<<<<<<<<<<<<<<<<<<\n",
    "\n",
    "def get_access_token(client_id:str, client_sc:str):\n",
    "    import requests\n",
    "    \n",
    "    headers = {\n",
    "        'Content-Type': 'application/x-www-form-urlencoded',\n",
    "    }\n",
    "    data = f'grant_type=client_credentials&client_id={client_id}&client_secret={client_sc}'.encode()\n",
    "    response = requests.post('https://accounts.spotify.com/api/token', headers=headers, data=data).json()\n",
    "    access_token = response['access_token']\n",
    "\n",
    "    return access_token\n",
    "\n",
    "def get_response(access_token:str, endpoint:str, params:dict=None):\n",
    "    import requests, json\n",
    "\n",
    "    url = f\"https://api.spotify.com/v1/{endpoint}\"\n",
    "    headers = {\n",
    "        'Authorization': f'Bearer {access_token}',\n",
    "    }\n",
    "\n",
    "    if params != None:\n",
    "        response = requests.get(url=url, params=params, headers=headers)\n",
    "    else:\n",
    "        response = requests.get(url=url, headers=headers)\n",
    "    print(response)\n",
    "    \n",
    "    if response.status_code == 200:\n",
    "        try:\n",
    "            data = response.json()\n",
    "            return data\n",
    "        except json.decoder.JSONDecodeError:\n",
    "            raise ValueError(f\"API Server Error - {endpoint} - Invalid JSON content in response: {response.text}\")\n",
    "    else:\n",
    "        raise ValueError(f\"API Server Error - {endpoint} - Non-200 status code received: {response.status_code}\")\n",
    "    \n",
    "\n",
    "def post_response(access_token:str, endpoint:str, data:dict=None):\n",
    "    import requests\n",
    "\n",
    "    url = f\"https://api.spotify.com/v1/{endpoint}\"\n",
    "    headers = {\n",
    "        'Authorization': f'Bearer {access_token}',\n",
    "    }\n",
    "\n",
    "    response = requests.post(url=url, headers=headers)\n",
    "    print(response)\n",
    "    \n",
    "    if response.status_code == 200:\n",
    "        pass\n",
    "    else:\n",
    "        raise ValueError(f\"API Server Error - {endpoint} - Non-200 status code received: {response.status_code}\")"
   ]
  },
  {
   "cell_type": "code",
   "execution_count": 4,
   "metadata": {},
   "outputs": [],
   "source": [
    "# INFOS <<<<<<<<<<<<<<<<<<<<<<<<<<<<<<<<<<<\n",
    "\n",
    "from configparser import ConfigParser\n",
    "\n",
    "config = ConfigParser()\n",
    "config.read(\"/home/hooniegit/git/Spotify-DemoProject/recommendation/demo/config.ini\")\n",
    "\n",
    "client_id = config.get(\"spotify\", \"client_id\")\n",
    "client_sc = config.get(\"spotify\", \"client_sc\")\n",
    "user_id = config.get(\"spotify\", \"user_id\")"
   ]
  },
  {
   "cell_type": "code",
   "execution_count": 2,
   "metadata": {},
   "outputs": [],
   "source": [
    "# START CODE <<<<<<<<<<<<<<<<<<<<<<<<<<<<<<<<<<<\n",
    "\n",
    "from pyspark.sql import SparkSession\n",
    "from pyspark.sql.functions import explode\n",
    "from math import ceil\n",
    "import json"
   ]
  },
  {
   "cell_type": "code",
   "execution_count": 5,
   "metadata": {},
   "outputs": [
    {
     "name": "stderr",
     "output_type": "stream",
     "text": [
      "24/01/07 17:55:12 WARN Utils: Your hostname, workspace resolves to a loopback address: 127.0.0.1; using 220.118.158.128 instead (on interface eno1)\n",
      "24/01/07 17:55:12 WARN Utils: Set SPARK_LOCAL_IP if you need to bind to another address\n",
      "Setting default log level to \"WARN\".\n",
      "To adjust logging level use sc.setLogLevel(newLevel). For SparkR, use setLogLevel(newLevel).\n",
      "24/01/07 17:55:13 WARN NativeCodeLoader: Unable to load native-hadoop library for your platform... using builtin-java classes where applicable\n"
     ]
    },
    {
     "name": "stdout",
     "output_type": "stream",
     "text": [
      "<Response [200]>\n"
     ]
    },
    {
     "name": "stderr",
     "output_type": "stream",
     "text": [
      "                                                                                \r"
     ]
    },
    {
     "name": "stdout",
     "output_type": "stream",
     "text": [
      "<Response [200]>\n"
     ]
    },
    {
     "name": "stderr",
     "output_type": "stream",
     "text": [
      "                                                                                \r"
     ]
    },
    {
     "name": "stdout",
     "output_type": "stream",
     "text": [
      "121\n",
      "<Response [200]>\n"
     ]
    },
    {
     "name": "stderr",
     "output_type": "stream",
     "text": [
      "                                                                                \r"
     ]
    }
   ],
   "source": [
    "### Build Session\n",
    "spark = SparkSession.builder \\\n",
    "    .master(config.get(\"spark\", \"master\")) \\\n",
    "    .appName(\"pipeline_demo\") \\\n",
    "    .getOrCreate()\n",
    "\n",
    "### Create Access Token\n",
    "access_token = get_access_token(client_id=client_id, client_sc=client_sc)\n",
    "\n",
    "### Create Playlist Lists\n",
    "endpoint = f\"users/{user_id}/playlists\"\n",
    "params = {\n",
    "    \"limit\": 50,\n",
    "    \"offset\": 0\n",
    "}\n",
    "\n",
    "playlists = get_response(access_token=access_token, endpoint=endpoint, params=params)\n",
    "json_string  = json.dumps(playlists)\n",
    "json_rdd = spark.sparkContext.parallelize([json_string])\n",
    "df_plinfo = spark.read.json(json_rdd, multiLine=True)\n",
    "\n",
    "items = df_plinfo \\\n",
    "    .withColumn(\"items\", explode(\"items\")) \\\n",
    "    .select(\"items.id\") \\\n",
    "    .rdd.flatMap(lambda x: x).collect()\n",
    "\n",
    "### Create Playlist Item Lists\n",
    "track_list = [] # <---------- \"Need To Use\"\n",
    "for id in items:\n",
    "    endpoint = f\"playlists/{id}/tracks\"\n",
    "    playlist_spec = get_response(access_token=access_token, endpoint=endpoint)\n",
    "    \n",
    "    json_string  = json.dumps(playlist_spec)\n",
    "    json_rdd = spark.sparkContext.parallelize([json_string])\n",
    "    df_playlist_spec = spark.read.json(json_rdd, multiLine=True)\n",
    "    \n",
    "    ids = df_playlist_spec \\\n",
    "    .withColumn(\"items\", explode(\"items\")) \\\n",
    "    .select(\"items.track.id\") \\\n",
    "    .rdd.flatMap(lambda x: x).collect()\n",
    "    \n",
    "    track_list += ids\n",
    "    \n",
    "    total = df_playlist_spec.select(\"total\").first()[0]\n",
    "    print(total)\n",
    "    left = int(total)-100\n",
    "    cnt = ceil(left/100)\n",
    "    \n",
    "    for i in range(cnt):\n",
    "        offset = 100 + 100 * i\n",
    "        params = {\"offset\":offset}\n",
    "        \n",
    "        playlist_spec = get_response(access_token=access_token, endpoint=endpoint, params=params)\n",
    "        \n",
    "        json_string  = json.dumps(playlist_spec)\n",
    "        json_rdd = spark.sparkContext.parallelize([json_string])\n",
    "        df_playlist_spec = spark.read.json(json_rdd, multiLine=True)\n",
    "        \n",
    "        ids = df_playlist_spec \\\n",
    "        .withColumn(\"items\", explode(\"items\")) \\\n",
    "        .select(\"items.track.id\") \\\n",
    "        .rdd.flatMap(lambda x: x).collect()\n",
    "        \n",
    "        track_list += ids      \n",
    "\n",
    "cnt = ceil(len(track_list)/50)\n",
    "\n",
    "big_list = []\n",
    "for j in range(cnt):\n",
    "    big_list.append(track_list[j*50:(j+1)*50])\n"
   ]
  },
  {
   "cell_type": "code",
   "execution_count": 6,
   "metadata": {},
   "outputs": [
    {
     "name": "stdout",
     "output_type": "stream",
     "text": [
      "0\n",
      "<Response [200]>\n"
     ]
    },
    {
     "name": "stderr",
     "output_type": "stream",
     "text": [
      "                                                                                \r"
     ]
    },
    {
     "name": "stdout",
     "output_type": "stream",
     "text": [
      "<Response [200]>\n"
     ]
    },
    {
     "name": "stderr",
     "output_type": "stream",
     "text": [
      "                                                                                \r"
     ]
    },
    {
     "name": "stdout",
     "output_type": "stream",
     "text": [
      "1\n",
      "<Response [200]>\n"
     ]
    },
    {
     "name": "stderr",
     "output_type": "stream",
     "text": [
      "                                                                                \r"
     ]
    },
    {
     "name": "stdout",
     "output_type": "stream",
     "text": [
      "<Response [200]>\n"
     ]
    },
    {
     "name": "stderr",
     "output_type": "stream",
     "text": [
      "                                                                                \r"
     ]
    },
    {
     "name": "stdout",
     "output_type": "stream",
     "text": [
      "2\n",
      "<Response [200]>\n"
     ]
    },
    {
     "name": "stderr",
     "output_type": "stream",
     "text": [
      "                                                                                \r"
     ]
    },
    {
     "name": "stdout",
     "output_type": "stream",
     "text": [
      "<Response [200]>\n"
     ]
    }
   ],
   "source": [
    "# Create Dataframe : main_df\n",
    "main_df = None\n",
    "cnt = 0\n",
    "for small_list in big_list:\n",
    "    \n",
    "    print(cnt)\n",
    "    \n",
    "    tracks = \"\"\n",
    "    for id in small_list:\n",
    "        tracks += f\",{id}\"\n",
    "    tracks = tracks[1:]\n",
    "    \n",
    "    endpoint = \"tracks\"\n",
    "    params = {\"ids\":tracks}\n",
    "    track = get_response(access_token=access_token, endpoint=endpoint, params=params)\n",
    "    \n",
    "    json_string  = json.dumps(track)\n",
    "    json_rdd = spark.sparkContext.parallelize([json_string])\n",
    "    df_tracks = spark.read.json(json_rdd, multiLine=True)\n",
    "    \n",
    "    df_tracks = spark.read.json(json_rdd, multiLine=True) \\\n",
    "        .withColumn(\"tracks\", explode(\"tracks\")) \\\n",
    "        .selectExpr(\"tracks.id\",\n",
    "                    \"tracks.popularity\")\n",
    "    \n",
    "    endpoint = \"audio-features\"\n",
    "    params = {\"ids\":tracks}\n",
    "    audio_features = get_response(access_token=access_token, endpoint=endpoint, params=params)\n",
    "    \n",
    "    json_string  = json.dumps(audio_features)\n",
    "    json_rdd = spark.sparkContext.parallelize([json_string])\n",
    "    df_audio_features = spark.read.json(json_rdd, multiLine=True) \\\n",
    "        .withColumn(\"audio_features\", explode(\"audio_features\")) \\\n",
    "        .selectExpr(\"audio_features.id\",\n",
    "                    \"audio_features.key\",\n",
    "                    \"audio_features.mode\",\n",
    "                    \"audio_features.time_signature\",\n",
    "                    \"audio_features.tempo\",\n",
    "                    \"audio_features.acousticness\",\n",
    "                    \"audio_features.danceability\",\n",
    "                    \"audio_features.energy\",\n",
    "                    \"audio_features.instrumentalness\",\n",
    "                    \"audio_features.liveness\",\n",
    "                    \"audio_features.loudness\",\n",
    "                    \"audio_features.speechiness\",\n",
    "                    \"audio_features.valence\")\n",
    "    \n",
    "    result_track_df = df_tracks.join(df_audio_features, \"id\", \"left\")\n",
    "    if cnt == 0:\n",
    "        main_df = result_track_df\n",
    "    else:\n",
    "        main_df = main_df.union(result_track_df)\n",
    "    cnt += 1"
   ]
  },
  {
   "cell_type": "code",
   "execution_count": 7,
   "metadata": {},
   "outputs": [
    {
     "name": "stderr",
     "output_type": "stream",
     "text": [
      "[Stage 25:>                                                         (0 + 1) / 1]\r"
     ]
    },
    {
     "name": "stdout",
     "output_type": "stream",
     "text": [
      "+--------------------+----------+---+----+--------------+-------+------------+------------+------+----------------+--------+--------+-----------+-------+\n",
      "|                  id|popularity|key|mode|time_signature|  tempo|acousticness|danceability|energy|instrumentalness|liveness|loudness|speechiness|valence|\n",
      "+--------------------+----------+---+----+--------------+-------+------------+------------+------+----------------+--------+--------+-----------+-------+\n",
      "|000O8nXpAK5QAppKv...|         5|  1|   1|             4|128.018|     5.12E-4|       0.504|  0.93|          0.0107|   0.281|   -2.89|     0.0539|  0.355|\n",
      "|000kSCs9tKtH1VXI3...|        11|  2|   1|             4| 129.85|       0.863|       0.425| 0.266|             0.0|  0.0989|  -6.791|     0.0337|  0.253|\n",
      "|0010mZpCCwlPwoBiB...|        38|  3|   1|             3|124.993|       0.108|       0.527| 0.793|         3.28E-6|   0.144|  -4.823|     0.0352|  0.597|\n",
      "|0026hQeV7FZ0PaZpW...|        20| 11|   1|             4|169.358|        0.33|        0.48| 0.737|             0.0|   0.449|  -7.023|      0.216|  0.201|\n",
      "|003Zj5utQfbYDofOq...|        19|  1|   1|             4| 89.971|      0.0117|       0.706| 0.478|          0.0211|   0.116|  -7.839|     0.0434| 0.0869|\n",
      "|003heort6ZPgg46RM...|         2|  8|   1|             4| 81.486|       0.886|        0.72| 0.231|           0.806|   0.118|  -14.43|     0.0364|  0.742|\n",
      "|004zTdXYH400nJeJH...|         3|  8|   0|             5|168.081|       0.956|       0.254| 0.133|           0.506|  0.0559| -27.071|     0.0831| 0.0702|\n",
      "|006x4IC6Fm1xjYtns...|         0|  6|   0|             3|  63.28|       0.912|       0.166| 0.547|         2.32E-4|   0.933| -14.973|     0.0799|  0.234|\n",
      "|007dnwwA3q2fhQ4AC...|         0| 10|   1|             4|139.869|      0.0181|       0.746|  0.82|             0.0|   0.418|  -1.596|     0.0503|  0.271|\n",
      "|007qEKeXFHJ2r7rMU...|        25|  6|   0|             4|103.515|      0.0743|       0.707| 0.523|             0.0|   0.252|  -5.863|      0.228|  0.605|\n",
      "|00841Yho1fVUDDfA9...|         0| 11|   0|             5|180.478|       0.534|       0.613|0.0981|             0.0|   0.226| -27.133|      0.955|  0.609|\n",
      "|0099y8U9Px3fIJX5L...|         0|  3|   1|             4| 91.476|       0.772|       0.541| 0.462|             0.0|  0.0683|  -6.676|     0.0249|  0.461|\n",
      "|009BdcwF2lB7RZiTS...|        11| 10|   1|             4| 78.336|       0.915|       0.219|   0.2|           0.321|   0.284|  -11.52|     0.0324|  0.192|\n",
      "|009ltBhNaq5XDC4f3...|        10|  9|   0|             3|157.619|       0.931|       0.452| 0.139|             0.0|  0.0851| -15.348|     0.0407|  0.336|\n",
      "|00AYIzevROJfCstNK...|        17|  8|   0|             4| 90.218|       0.105|       0.531| 0.909|             0.0|  0.0858|  -3.525|       0.29|  0.644|\n",
      "|00B1efLzCB1lUNPT8...|         3|  0|   1|             4|171.374|       0.849|       0.485| 0.362|         4.13E-6|  0.0986|  -7.889|     0.0889|  0.284|\n",
      "|00BhvVsOJkBMJVyoj...|        21|  7|   0|             4| 81.911|       0.709|       0.624| 0.654|          3.6E-5|  0.0974|  -4.538|     0.0545|  0.329|\n",
      "|00CNYGlhmuXQcJU81...|         2|  2|   1|             1|124.193|      0.0473|       0.505| 0.753|         0.00156|   0.181|  -9.898|     0.0348|  0.535|\n",
      "|00CYT9MwnEJva7cCy...|         9|  1|   1|             4|105.079|       0.784|       0.867|  0.25|             0.0|   0.132|  -7.028|     0.0358|  0.442|\n",
      "|00CZIZmqtInPEWdxG...|        13|  4|   1|             5|  83.73|       0.958|       0.372| 0.246|             0.0|  0.0741| -10.112|     0.0582|  0.257|\n",
      "+--------------------+----------+---+----+--------------+-------+------------+------------+------+----------------+--------+--------+-----------+-------+\n",
      "only showing top 20 rows\n",
      "\n"
     ]
    },
    {
     "name": "stderr",
     "output_type": "stream",
     "text": [
      "                                                                                \r"
     ]
    }
   ],
   "source": [
    "### Load Dataframe : df_dw\n",
    "dw_tracks = spark.read.parquet(\"file:///home/hooniegit/git/Spotify-DemoProject/spark/data/parquet/tracks/main/*\")\n",
    "dw_audioFeatures = spark.read.parquet(\"file:///home/hooniegit/git/Spotify-DemoProject/spark/data/parquet/tracks/audio_features/*\")\n",
    "df_dw = dw_tracks.join(dw_audioFeatures, \"id\", \"inner\")\n",
    "\n",
    "df_dw.show() # << TEST"
   ]
  },
  {
   "cell_type": "code",
   "execution_count": 28,
   "metadata": {},
   "outputs": [
    {
     "name": "stderr",
     "output_type": "stream",
     "text": [
      "                                                                                \r"
     ]
    },
    {
     "name": "stdout",
     "output_type": "stream",
     "text": [
      "Cluster Centers:\n",
      "[ 2.09515646e+00  1.50236128e+00  1.65469882e+00  3.07697694e+01\n",
      "  5.96699065e+00  2.16875808e+00  4.39646952e+00  3.00768884e+00\n",
      "  1.56655839e-03  1.11411292e+00 -3.11720687e+00  7.99477989e-01\n",
      "  1.45901860e+00]\n",
      "[ 2.64677188  1.62550565  0.         31.24315051  5.25612042  0.56045294\n",
      "  6.42199462  4.90811984 10.59962709  0.6982741  -1.16375907  1.01272458\n",
      "  3.6305724 ]\n",
      "[ 2.63658022  1.33925308  1.14476019 31.24315051  5.87248036  0.43306078\n",
      "  5.64519108  5.0335193   0.08347468  1.51129427 -1.67051884  1.72694773\n",
      "  3.09453942]\n",
      "[ 1.53944895e+00  1.80877344e+00  8.32756920e-01  3.12431505e+01\n",
      "  5.48980704e+00  7.70542800e-01  4.91380253e+00  4.58578034e+00\n",
      "  2.59466620e-03  1.85139590e+00 -2.11223799e+00  1.15618116e+00\n",
      "  1.82347482e+00]\n"
     ]
    },
    {
     "name": "stderr",
     "output_type": "stream",
     "text": [
      "[Stage 1224:==================================================>   (16 + 1) / 17]\r"
     ]
    },
    {
     "name": "stdout",
     "output_type": "stream",
     "text": [
      "+--------------------+----------+---+----+--------------+-------+------------+------------+------+----------------+--------+--------+-----------+-------+--------------------+--------------------+----------+\n",
      "|                  id|popularity|key|mode|time_signature|  tempo|acousticness|danceability|energy|instrumentalness|liveness|loudness|speechiness|valence|            features|      scaledFeatures|prediction|\n",
      "+--------------------+----------+---+----+--------------+-------+------------+------------+------+----------------+--------+--------+-----------+-------+--------------------+--------------------+----------+\n",
      "|000O8nXpAK5QAppKv...|         5|  1|   1|             4|128.018|     5.12E-4|       0.504|  0.93|          0.0107|   0.281|   -2.89|     0.0539|  0.355|[5.0,1.0,1.0,4.0,...|[0.34752277128777...|         0|\n",
      "|000kSCs9tKtH1VXI3...|        11|  2|   1|             4| 129.85|       0.863|       0.425| 0.266|             0.0|  0.0989|  -6.791|     0.0337|  0.253|[11.0,2.0,1.0,4.0...|[0.76455009683310...|         0|\n",
      "|0010mZpCCwlPwoBiB...|        38|  3|   1|             3|124.993|       0.108|       0.527| 0.793|         3.28E-6|   0.144|  -4.823|     0.0352|  0.597|[38.0,3.0,1.0,3.0...|[2.64117306178708...|         0|\n",
      "|0026hQeV7FZ0PaZpW...|        20| 11|   1|             4|169.358|        0.33|        0.48| 0.737|             0.0|   0.449|  -7.023|      0.216|  0.201|[20.0,11.0,1.0,4....|[1.39009108515109...|         0|\n",
      "|003Zj5utQfbYDofOq...|        19|  1|   1|             4| 89.971|      0.0117|       0.706| 0.478|          0.0211|   0.116|  -7.839|     0.0434| 0.0869|[19.0,1.0,1.0,4.0...|[1.32058653089354...|         0|\n",
      "|003heort6ZPgg46RM...|         2|  8|   1|             4| 81.486|       0.886|        0.72| 0.231|           0.806|   0.118|  -14.43|     0.0364|  0.742|[2.0,8.0,1.0,4.0,...|[0.13900910851510...|         0|\n",
      "|004zTdXYH400nJeJH...|         3|  8|   0|             5|168.081|       0.956|       0.254| 0.133|           0.506|  0.0559| -27.071|     0.0831| 0.0702|[3.0,8.0,0.0,5.0,...|[0.20851366277266...|         0|\n",
      "|006x4IC6Fm1xjYtns...|         0|  6|   0|             3|  63.28|       0.912|       0.166| 0.547|         2.32E-4|   0.933| -14.973|     0.0799|  0.234|[0.0,6.0,0.0,3.0,...|[0.0,1.6864314198...|         0|\n",
      "|007dnwwA3q2fhQ4AC...|         0| 10|   1|             4|139.869|      0.0181|       0.746|  0.82|             0.0|   0.418|  -1.596|     0.0503|  0.271|[0.0,10.0,1.0,4.0...|[0.0,2.8107190331...|         0|\n",
      "|007qEKeXFHJ2r7rMU...|        25|  6|   0|             4|103.515|      0.0743|       0.707| 0.523|             0.0|   0.252|  -5.863|      0.228|  0.605|[25.0,6.0,0.0,4.0...|[1.73761385643887...|         0|\n",
      "|00841Yho1fVUDDfA9...|         0| 11|   0|             5|180.478|       0.534|       0.613|0.0981|             0.0|   0.226| -27.133|      0.955|  0.609|[0.0,11.0,0.0,5.0...|[0.0,3.0917909364...|         0|\n",
      "|0099y8U9Px3fIJX5L...|         0|  3|   1|             4| 91.476|       0.772|       0.541| 0.462|             0.0|  0.0683|  -6.676|     0.0249|  0.461|[0.0,3.0,1.0,4.0,...|[0.0,0.8432157099...|         0|\n",
      "|009BdcwF2lB7RZiTS...|        11| 10|   1|             4| 78.336|       0.915|       0.219|   0.2|           0.321|   0.284|  -11.52|     0.0324|  0.192|[11.0,10.0,1.0,4....|[0.76455009683310...|         0|\n",
      "|009ltBhNaq5XDC4f3...|        10|  9|   0|             3|157.619|       0.931|       0.452| 0.139|             0.0|  0.0851| -15.348|     0.0407|  0.336|[10.0,9.0,0.0,3.0...|[0.69504554257554...|         0|\n",
      "|00AYIzevROJfCstNK...|        17|  8|   0|             4| 90.218|       0.105|       0.531| 0.909|             0.0|  0.0858|  -3.525|       0.29|  0.644|[17.0,8.0,0.0,4.0...|[1.18157742237843...|         0|\n",
      "|00B1efLzCB1lUNPT8...|         3|  0|   1|             4|171.374|       0.849|       0.485| 0.362|         4.13E-6|  0.0986|  -7.889|     0.0889|  0.284|[3.0,0.0,1.0,4.0,...|[0.20851366277266...|         0|\n",
      "|00BhvVsOJkBMJVyoj...|        21|  7|   0|             4| 81.911|       0.709|       0.624| 0.654|          3.6E-5|  0.0974|  -4.538|     0.0545|  0.329|[21.0,7.0,0.0,4.0...|[1.45959563940865...|         0|\n",
      "|00CNYGlhmuXQcJU81...|         2|  2|   1|             1|124.193|      0.0473|       0.505| 0.753|         0.00156|   0.181|  -9.898|     0.0348|  0.535|[2.0,2.0,1.0,1.0,...|[0.13900910851510...|         0|\n",
      "|00CYT9MwnEJva7cCy...|         9|  1|   1|             4|105.079|       0.784|       0.867|  0.25|             0.0|   0.132|  -7.028|     0.0358|  0.442|[9.0,1.0,1.0,4.0,...|[0.62554098831799...|         0|\n",
      "|00CZIZmqtInPEWdxG...|        13|  4|   1|             5|  83.73|       0.958|       0.372| 0.246|             0.0|  0.0741| -10.112|     0.0582|  0.257|[13.0,4.0,1.0,5.0...|[0.90355920534821...|         0|\n",
      "+--------------------+----------+---+----+--------------+-------+------------+------------+------+----------------+--------+--------+-----------+-------+--------------------+--------------------+----------+\n",
      "only showing top 20 rows\n",
      "\n"
     ]
    },
    {
     "name": "stderr",
     "output_type": "stream",
     "text": [
      "                                                                                \r"
     ]
    },
    {
     "data": {
      "text/plain": [
       "'\\n    parquet에서 불러온 데이터프레임의 경우\\n        - Vector Assembling 진행\\n        - Standard Scaling 진행\\n        - KMeans 군집화 진행\\n        => 정상 동작\\n'"
      ]
     },
     "execution_count": 28,
     "metadata": {},
     "output_type": "execute_result"
    }
   ],
   "source": [
    "### TEST : EACH\n",
    "\n",
    "from pyspark.ml.feature import VectorAssembler\n",
    "from pyspark.ml.feature import StandardScaler\n",
    "from pyspark.ml.clustering import KMeans\n",
    "\n",
    "# Define Assembler\n",
    "selected_features = [\"popularity\", \"key\", \"mode\", \"time_signature\", \"tempo\", \"acousticness\", \"danceability\", \"energy\", \"instrumentalness\", \"liveness\", \"loudness\", \"speechiness\", \"valence\"]\n",
    "assembler = VectorAssembler(inputCols=selected_features, outputCol=\"features\")\n",
    "\n",
    "# Assemble Features\n",
    "df_assembled_main = assembler.transform(main_df)\n",
    "df_assembled_s3 = assembler.transform(df_dw)\n",
    "\n",
    "# Define Scaler\n",
    "standard_scaler = StandardScaler(inputCol=\"features\", outputCol=\"scaledFeatures\")\n",
    "\n",
    "# Scale Assembled Parquet DF - Playlist\n",
    "standard_model_main = standard_scaler.fit(df_assembled_main)\n",
    "scaled_df_assembled_main = standard_model_main.transform(df_assembled_main)\n",
    "\n",
    "# Scale Assembled Parquet DF - DW\n",
    "standard_model_s3 = standard_scaler.fit(df_assembled_s3)\n",
    "scaled_df_assembled_s3 = standard_model_s3.transform(df_assembled_s3)\n",
    "\n",
    "# Create Model == Train Dataset(Playlist)\n",
    "kmeans = KMeans(featuresCol=\"scaledFeatures\", k=4, seed=1)\n",
    "model = kmeans.fit(scaled_df_assembled_main)\n",
    "\n",
    "# Check Centers\n",
    "centers = model.clusterCenters()\n",
    "print(\"Cluster Centers:\")\n",
    "for center in centers:\n",
    "    print(center)\n",
    "\n",
    "# Test Dataset(DW)\n",
    "df_result = model.transform(scaled_df_assembled_s3)\n",
    "df_result.show()\n",
    "\n",
    "\n",
    "\"\"\"\n",
    "    parquet에서 불러온 데이터프레임의 경우\n",
    "        - Vector Assembling 각기 진행\n",
    "        - Standard Scaling 진행\n",
    "        - KMeans 군집화 진행\n",
    "        => 정상 동작\n",
    "\"\"\""
   ]
  },
  {
   "cell_type": "code",
   "execution_count": 8,
   "metadata": {},
   "outputs": [],
   "source": [
    "### Union Dataframe : df\n",
    "from pyspark.sql.functions import col\n",
    "\n",
    "df = df_dw \\\n",
    "    .filter(~col(\"id\").isin(track_list)) \\\n",
    "    .union(main_df)"
   ]
  },
  {
   "cell_type": "code",
   "execution_count": null,
   "metadata": {},
   "outputs": [],
   "source": [
    "# 고려해야 할 사항들\n",
    "\"\"\"\n",
    "    0. 스케일링 가능 항목 : acousticness, danceability, energy, instrumentalness, liveness, speechiness, valence\n",
    "    1. loudness 항목 : 절댓값 반환 필요 / 계산식 확인 필요\n",
    "            from pyspark.sql.functions import abs\n",
    "            df = df \\\n",
    "                .withColumn(\"loudness\", abs(\"loudness\"))\n",
    "    2. mode 항목 : 0 또는 1만 가짐\n",
    "    3. key, tempo 항목 : 이상치가 큰 영향을 끼칠 수 있음\n",
    "    4. Null 값 확인\n",
    "            #1번 - scaled_df.filter(col(\"features\").isNull()).count()\n",
    "            #2번 - from pyspark.sql.functions import sum\n",
    "                   df \\\n",
    "                       .select([sum(col(column).isNull().cast(\"int\")).alias(column + \"_null_count\") for column in df.columns]) \\\n",
    "                       .show()\n",
    "\"\"\""
   ]
  },
  {
   "cell_type": "code",
   "execution_count": 29,
   "metadata": {},
   "outputs": [
    {
     "name": "stderr",
     "output_type": "stream",
     "text": [
      "                                                                                \r"
     ]
    },
    {
     "name": "stdout",
     "output_type": "stream",
     "text": [
      "Cluster Centers:\n",
      "[ 0.3538954   1.42194005  1.4411359   6.95556903  3.42287009  2.31031371\n",
      "  1.72909809  0.61484765  1.37453573  0.91152591 -2.82729011  0.43023123\n",
      "  0.84939467]\n",
      "[ 0.89789533  1.34585524  2.08204658  7.52045263  4.08341734  0.69845268\n",
      "  2.96760305  2.29603622  0.40922837  1.19286778 -1.1168708   0.58428837\n",
      "  1.94149372]\n",
      "[ 0.93704904  1.728517    0.          7.54733868  4.04320023  0.59334652\n",
      "  3.10980173  2.36243712  0.51894269  1.14234023 -1.11574621  0.69537472\n",
      "  1.8821592 ]\n",
      "[ 0.9043051   1.50472815  1.26642417  7.50527711  3.83416934  0.80946278\n",
      "  3.33430537  2.15850055  0.10341378  1.45230817 -1.30025187  3.4962747\n",
      "  2.04674485]\n"
     ]
    },
    {
     "name": "stderr",
     "output_type": "stream",
     "text": [
      "[Stage 1493:==================================================>   (16 + 1) / 17]\r"
     ]
    },
    {
     "name": "stdout",
     "output_type": "stream",
     "text": [
      "+--------------------+----------+---+----+--------------+-------+------------+------------+------+----------------+--------+--------+-----------+-------+--------------------+--------------------+----------+\n",
      "|                  id|popularity|key|mode|time_signature|  tempo|acousticness|danceability|energy|instrumentalness|liveness|loudness|speechiness|valence|            features|      scaledFeatures|prediction|\n",
      "+--------------------+----------+---+----+--------------+-------+------------+------------+------+----------------+--------+--------+-----------+-------+--------------------+--------------------+----------+\n",
      "|000O8nXpAK5QAppKv...|         5|  1|   1|             4|128.018|     5.12E-4|       0.504|  0.93|          0.0107|   0.281|   -2.89|     0.0539|  0.355|[5.0,1.0,1.0,4.0,...|[0.34749044357066...|         1|\n",
      "|000kSCs9tKtH1VXI3...|        11|  2|   1|             4| 129.85|       0.863|       0.425| 0.266|             0.0|  0.0989|  -6.791|     0.0337|  0.253|[11.0,2.0,1.0,4.0...|[0.76447897585547...|         1|\n",
      "|0010mZpCCwlPwoBiB...|        38|  3|   1|             3|124.993|       0.108|       0.527| 0.793|         3.28E-6|   0.144|  -4.823|     0.0352|  0.597|[38.0,3.0,1.0,3.0...|[2.64092737113709...|         1|\n",
      "|0026hQeV7FZ0PaZpW...|        20| 11|   1|             4|169.358|        0.33|        0.48| 0.737|             0.0|   0.449|  -7.023|      0.216|  0.201|[20.0,11.0,1.0,4....|[1.38996177428267...|         1|\n",
      "|003Zj5utQfbYDofOq...|        19|  1|   1|             4| 89.971|      0.0117|       0.706| 0.478|          0.0211|   0.116|  -7.839|     0.0434| 0.0869|[19.0,1.0,1.0,4.0...|[1.32046368556854...|         1|\n",
      "|003heort6ZPgg46RM...|         2|  8|   1|             4| 81.486|       0.886|        0.72| 0.231|           0.806|   0.118|  -14.43|     0.0364|  0.742|[2.0,8.0,1.0,4.0,...|[0.13899617742826...|         0|\n",
      "|004zTdXYH400nJeJH...|         3|  8|   0|             5|168.081|       0.956|       0.254| 0.133|           0.506|  0.0559| -27.071|     0.0831| 0.0702|[3.0,8.0,0.0,5.0,...|[0.20849426614240...|         0|\n",
      "|006x4IC6Fm1xjYtns...|         0|  6|   0|             3|  63.28|       0.912|       0.166| 0.547|         2.32E-4|   0.933| -14.973|     0.0799|  0.234|[0.0,6.0,0.0,3.0,...|[0.0,1.6864302906...|         0|\n",
      "|007dnwwA3q2fhQ4AC...|         0| 10|   1|             4|139.869|      0.0181|       0.746|  0.82|             0.0|   0.418|  -1.596|     0.0503|  0.271|[0.0,10.0,1.0,4.0...|[0.0,2.8107171510...|         1|\n",
      "|007qEKeXFHJ2r7rMU...|        25|  6|   0|             4|103.515|      0.0743|       0.707| 0.523|             0.0|   0.252|  -5.863|      0.228|  0.605|[25.0,6.0,0.0,4.0...|[1.73745221785334...|         2|\n",
      "|00841Yho1fVUDDfA9...|         0| 11|   0|             5|180.478|       0.534|       0.613|0.0981|             0.0|   0.226| -27.133|      0.955|  0.609|[0.0,11.0,0.0,5.0...|[0.0,3.0917888661...|         3|\n",
      "|0099y8U9Px3fIJX5L...|         0|  3|   1|             4| 91.476|       0.772|       0.541| 0.462|             0.0|  0.0683|  -6.676|     0.0249|  0.461|[0.0,3.0,1.0,4.0,...|[0.0,0.8432151453...|         1|\n",
      "|009BdcwF2lB7RZiTS...|        11| 10|   1|             4| 78.336|       0.915|       0.219|   0.2|           0.321|   0.284|  -11.52|     0.0324|  0.192|[11.0,10.0,1.0,4....|[0.76447897585547...|         0|\n",
      "|009ltBhNaq5XDC4f3...|        10|  9|   0|             3|157.619|       0.931|       0.452| 0.139|             0.0|  0.0851| -15.348|     0.0407|  0.336|[10.0,9.0,0.0,3.0...|[0.69498088714133...|         0|\n",
      "|00AYIzevROJfCstNK...|        17|  8|   0|             4| 90.218|       0.105|       0.531| 0.909|             0.0|  0.0858|  -3.525|       0.29|  0.644|[17.0,8.0,0.0,4.0...|[1.18146750814027...|         2|\n",
      "|00B1efLzCB1lUNPT8...|         3|  0|   1|             4|171.374|       0.849|       0.485| 0.362|         4.13E-6|  0.0986|  -7.889|     0.0889|  0.284|[3.0,0.0,1.0,4.0,...|[0.20849426614240...|         1|\n",
      "|00BhvVsOJkBMJVyoj...|        21|  7|   0|             4| 81.911|       0.709|       0.624| 0.654|          3.6E-5|  0.0974|  -4.538|     0.0545|  0.329|[21.0,7.0,0.0,4.0...|[1.45945986299681...|         2|\n",
      "|00CNYGlhmuXQcJU81...|         2|  2|   1|             1|124.193|      0.0473|       0.505| 0.753|         0.00156|   0.181|  -9.898|     0.0348|  0.535|[2.0,2.0,1.0,1.0,...|[0.13899617742826...|         1|\n",
      "|00CYT9MwnEJva7cCy...|         9|  1|   1|             4|105.079|       0.784|       0.867|  0.25|             0.0|   0.132|  -7.028|     0.0358|  0.442|[9.0,1.0,1.0,4.0,...|[0.62548279842720...|         1|\n",
      "|00CZIZmqtInPEWdxG...|        13|  4|   1|             5|  83.73|       0.958|       0.372| 0.246|             0.0|  0.0741| -10.112|     0.0582|  0.257|[13.0,4.0,1.0,5.0...|[0.90347515328374...|         0|\n",
      "+--------------------+----------+---+----+--------------+-------+------------+------------+------+----------------+--------+--------+-----------+-------+--------------------+--------------------+----------+\n",
      "only showing top 20 rows\n",
      "\n"
     ]
    },
    {
     "name": "stderr",
     "output_type": "stream",
     "text": [
      "                                                                                \r"
     ]
    }
   ],
   "source": [
    "### TEST : UNION\n",
    "# Define Assembler\n",
    "selected_features = [\"popularity\", \"key\", \"mode\", \"time_signature\", \"tempo\", \"acousticness\", \"danceability\", \"energy\", \"instrumentalness\", \"liveness\", \"loudness\", \"speechiness\", \"valence\"]\n",
    "\n",
    "# Assemble Features\n",
    "assembler = VectorAssembler(inputCols=selected_features, outputCol=\"features\")\n",
    "df_assembled = assembler.transform(df)\n",
    "\n",
    "# Define Scaler\n",
    "standard_scaler = StandardScaler(inputCol=\"features\", outputCol=\"scaledFeatures\")\n",
    "\n",
    "# Scale Dataframe - Union\n",
    "standard_model = standard_scaler.fit(df_assembled)\n",
    "scaled_df = standard_model.transform(df_assembled)\n",
    "\n",
    "# Create Model == Train Dataset\n",
    "kmeans = KMeans(featuresCol=\"scaledFeatures\", k=4, seed=1)\n",
    "model = kmeans.fit(scaled_df)\n",
    "\n",
    "# Check Centers\n",
    "centers = model.clusterCenters()\n",
    "print(\"Cluster Centers:\")\n",
    "for center in centers:\n",
    "    print(center)\n",
    "\n",
    "# Test Dataset\n",
    "df_result = model.transform(scaled_df)\n",
    "df_result.show()\n",
    "\n",
    "\"\"\"\n",
    "    StandardScaler 모델의 부분적 한계\n",
    "        : 현재 시나리오에서 적용 불가\n",
    "        (전체 데이터셋에 대해서 스케일링 -> 데이터 분할(이 부분이 불가) -> Playlist 데이터셋으로 학습 -> S3 데이터셋으로 추출)\n",
    "    해결 방법\n",
    "        : 원본 데이터의 각 컬럼 스케일링\n",
    "\"\"\""
   ]
  },
  {
   "cell_type": "code",
   "execution_count": 9,
   "metadata": {},
   "outputs": [
    {
     "name": "stderr",
     "output_type": "stream",
     "text": [
      "[Stage 729:===================================================>   (16 + 1) / 17]\r"
     ]
    },
    {
     "name": "stdout",
     "output_type": "stream",
     "text": [
      "+--------------------+--------------------+-------------------+-------------------+-------------------+-------------------+--------------------+--------------------+--------------------+-------------------+--------------------+-------------------+--------------------+--------------------+\n",
      "|                  id|          popularity|                key|               mode|     time_signature|              tempo|        acousticness|        danceability|              energy|   instrumentalness|            liveness|           loudness|         speechiness|             valence|\n",
      "+--------------------+--------------------+-------------------+-------------------+-------------------+-------------------+--------------------+--------------------+--------------------+-------------------+--------------------+-------------------+--------------------+--------------------+\n",
      "|000O8nXpAK5QAppKv...| -0.4076598013353838|-1.1919803361617896| 0.7516617180263379|0.26169225141541075| 0.3565664069530006|  -1.133692048157583| -0.1682632163450353|   1.414105236820924|-0.6518304025704676|  0.4601380707278579| 1.1973811867378454|-0.34274081996744393| -0.3290828460657071|\n",
      "|000kSCs9tKtH1VXI3...|0.009327289749165626| -0.910908621053557| 0.7516617180263379|0.26169225141541075| 0.4170099058645478|  1.1314821698193127| -0.5627864919609588| -0.9009718201925315|-0.6808777443253997| -0.5662081489500911| 0.6372361788538469| -0.5194403275613357| -0.7027063863699733|\n",
      "|0010mZpCCwlPwoBiB...|   1.885769199629638|-0.6298369059453244| 0.7516617180263379|-1.6454946561837664| 0.2567620487611713| -0.8513935740432759|-0.05340200952014...|  0.9364462657202561|-0.6808688400935347|-0.31201696549333396|  0.919821509670486| -0.5063190769974328|  0.5573573181855914|\n",
      "|0026hQeV7FZ0PaZpW...|  0.6348079263759897|  1.618736814920536| 0.7516617180263379|0.26169225141541075| 1.7205043136142288|-0.26834931558301794| -0.2881183886840501|   0.741198803080567|-0.6808777443253997|  1.4070143195246476| 0.6039232740014789|   1.075228990971658| -0.8931811324074425|\n",
      "|003Zj5utQfbYDofOq...|  0.5653100778618982|-1.1919803361617896| 0.7516617180263379|0.26169225141541075|-0.8987249702782462|  -1.104308718591577|  0.8405178175083381|-0.16182071162799472|-0.6235974722666083|-0.46982967362613215|0.48675374658970166|-0.43458957391476394| -1.3111266809242736|\n",
      "|003heort6ZPgg46RM...| -0.6161533468776585| 0.7755216695958383| 0.7516617180263379|0.26169225141541075|-1.1786720708592942|  1.1918876560561864|  0.9104333347060968| -1.0230014843423372|  1.507174354223695|-0.45855733733093235|-0.4596486494532191| -0.4958220765463106|  1.0884888215593034|\n",
      "|004zTdXYH400nJeJH...|  -0.546655498363567| 0.7755216695958383|-1.3303848576221484| 2.1688791590145877| 1.6783720275279588|  1.3757304402553667| -1.4167545948764384|  -1.364684543961793| 0.6927629031508308| -0.8085633792968885|  -2.27477119358591|-0.08731380899013512|  -1.372298378209384|\n",
      "|006x4IC6Fm1xjYtns...| -0.7551490439058417|0.21337823937937322|-1.3303848576221484|-1.6454946561837664|-1.7793458378809275|  1.2601721187587391|  -1.856223560119492| 0.07875205483876516|-0.6802479328032367|  4.1349197029630185|-0.5376180776206151|-0.11530581019312783| -0.7723029281913563|\n",
      "|007dnwwA3q2fhQ4AC...| -0.7551490439058417| 1.3376650998123034| 0.7516617180263379|0.26169225141541075| 0.7475685388311383| -1.0875002354647947|  1.0402764380733627|  1.0305834352072487|-0.6808777443253997|  1.2322931069490493| 1.3831867853540705|-0.37423182132081084| -0.6367728204339262|\n",
      "|007qEKeXFHJ2r7rMU...|  0.9822971689464476|0.21337823937937322|-1.3303848576221484|0.26169225141541075| -0.451865390988946| -0.9399007430077383|  0.8455117830224637|-0.00492542914967...|-0.6808777443253997| 0.29668919444745956|  0.770487798263319|  1.1801989954828809|  0.5866611252682791|\n",
      "|00841Yho1fVUDDfA9...| -0.7551490439058417|  1.618736814920536|-1.3303848576221484| 2.1688791590145877|  2.087388433645019|   0.267421084083165|  0.3760790246946563| -1.4863655519283132|-0.6808777443253997| 0.15014882260986115|-2.2836737802274905|   7.539631768787797|  0.6013130288096228|\n",
      "|0099y8U9Px3fIJX5L...| -0.7551490439058417|-0.6298369059453244| 0.7516617180263379|0.26169225141541075| -0.849070240004295|  0.8924865503603784|0.016513507677612494|   -0.21760570095362|-0.6808777443253997| -0.7386748942666492| 0.6537490411729087| -0.5964183308695659| 0.05919259777990318|\n",
      "|009BdcwF2lB7RZiTS...|0.009327289749165626| 1.3376650998123034| 0.7516617180263379|0.26169225141541075|-1.2826005760838435|  1.2680510952244184|  -1.591543387870835| -1.1310849011607365| 0.1905425083225647| 0.47704657517065746| -0.041801437727396| -0.5308120780500516| -0.9261479153754659|\n",
      "|009ltBhNaq5XDC4f3...|-0.06017055876492594|  1.056593384704071|-1.3303848576221484|-1.6454946561837664| 1.3331974174774082|   1.310072303041374|-0.42794942307956707| -1.3437651729646833|-0.6808777443253997| -0.6439872693869704|-0.5914643677914686|-0.45820782492978906| -0.3986793878870899|\n",
      "|00AYIzevROJfCstNK...| 0.42631438083371503| 0.7755216695958383|-1.3303848576221484|0.26169225141541075| -0.890575655741591|  -0.859272550508955|-0.03342614746364367|  1.3408874383310405|-0.6808777443253997| -0.6400419516836503| 1.1062014687152002|  1.7225440187908652|   0.729517184796381|\n",
      "|00B1efLzCB1lUNPT8...|  -0.546655498363567| -1.473052051270022| 0.7516617180263379|0.26169225141541075| 1.7870185569579402|  1.0947136129794768|  -0.263148561113422|  -0.566261884238779|-0.6808665325944233| -0.5678989993943712|0.47957424123358794|-0.03657830680971063| -0.5891541339245592|\n",
      "|00BhvVsOJkBMJVyoj...|  0.7043057748900813|0.49444995448760576|-1.3303848576221484|0.26169225141541075|-1.1646499709480456|  0.7270280445811158|  0.4310126453500381| 0.45181417095388515| -0.680780014951271|  -0.574662401171491| 0.9607446902003347| -0.3374923197418828| -0.4243202190844415|\n",
      "|00CNYGlhmuXQcJU81...| -0.6161533468776585| -0.910908621053557| 0.7516617180263379|  -5.45986847138212|0.23036750775176207| -1.0108115311988508| -0.1632692508309097|  0.7969837924061924|-0.6766428047798209|-0.10347874403213618| 0.1911017160249356|  -0.509818077147807|  0.3302528132947631|\n",
      "|00CYT9MwnEJva7cCy...|-0.12966840727901752|-1.1919803361617896| 0.7516617180263379|0.26169225141541075| -0.400264063315551|  0.9240024562230951|  1.6445462652825618|  -0.956756809518157|-0.6808777443253997| -0.3796509832645331| 0.6032053234658676| -0.5010705767718717|-0.01040394404147...|\n",
      "|00CZIZmqtInPEWdxG...| 0.14832298677734876|-0.3487651908370919| 0.7516617180263379| 2.1688791590145877|-1.1046353833279008|   1.380983091232486| -0.8274666642096161| -0.9707030568495634|-0.6808777443253997| -0.7059851190105696| 0.1603734331007685|-0.30512656835092244| -0.6880544828286296|\n",
      "+--------------------+--------------------+-------------------+-------------------+-------------------+-------------------+--------------------+--------------------+--------------------+-------------------+--------------------+-------------------+--------------------+--------------------+\n",
      "only showing top 20 rows\n",
      "\n"
     ]
    },
    {
     "name": "stderr",
     "output_type": "stream",
     "text": [
      "                                                                                \r"
     ]
    }
   ],
   "source": [
    "from pyspark.sql.functions import mean, stddev\n",
    "\n",
    "raw_scaled_df = df\n",
    "\n",
    "# Standard Scaling\n",
    "for col_name in df.columns[1:]:\n",
    "    mean_val = df.select(mean(col_name)).collect()[0][0]\n",
    "    stds_val = df.select(stddev(col_name)).collect()[0][0]\n",
    "    raw_scaled_df = raw_scaled_df.withColumn(col_name, (col(col_name) - mean_val) / stds_val)\n",
    "\n",
    "raw_scaled_df.show()"
   ]
  },
  {
   "cell_type": "code",
   "execution_count": 10,
   "metadata": {},
   "outputs": [],
   "source": [
    "from pyspark.sql.functions import col\n",
    "\n",
    "scaled_train = raw_scaled_df.filter(col(\"id\").isin(track_list))\n",
    "scaled_test = raw_scaled_df.filter(~col(\"id\").isin(track_list))"
   ]
  },
  {
   "cell_type": "code",
   "execution_count": 12,
   "metadata": {},
   "outputs": [
    {
     "name": "stderr",
     "output_type": "stream",
     "text": [
      "24/01/07 17:59:35 WARN SparkStringUtils: Truncated the string representation of a plan since it was too large. This behavior can be adjusted by setting 'spark.sql.debug.maxToStringFields'.\n",
      "24/01/07 17:59:50 WARN InstanceBuilder: Failed to load implementation from:dev.ludovic.netlib.blas.JNIBLAS\n",
      "                                                                                \r"
     ]
    },
    {
     "name": "stdout",
     "output_type": "stream",
     "text": [
      "Cluster Centers:\n",
      "[ 1.94263108 -0.05917615  0.43620012  0.14610517  0.30600786  0.131075\n",
      " -0.0107263   0.16158431 -0.68087618 -0.29575747  0.83650879 -0.45908257\n",
      " -0.49890063]\n",
      "[ 4.18651376 -0.18603946 -0.01540807  0.26169225  0.3869236  -0.79874266\n",
      "  1.01583229  0.94800697 -0.67980518 -0.28380646  0.99853156 -0.15071017\n",
      "  0.89261601]\n",
      "[ 2.15449421 -0.04895536 -0.45129853  0.26169225  0.20362544 -0.79026544\n",
      "  0.70446     1.13851189 -0.67644901 -0.09185571  1.0886037  -0.18437219\n",
      "  0.95686589]\n",
      "[ 0.42631438  0.83407828 -0.28936157  0.26169225  0.44684811 -0.56809359\n",
      "  0.18485176  0.92947314 -0.68080928 -0.07755237  1.01142602 -0.34365202\n",
      "  0.18815987]\n"
     ]
    },
    {
     "name": "stderr",
     "output_type": "stream",
     "text": [
      "[Stage 867:===================================================>   (16 + 1) / 17]\r"
     ]
    },
    {
     "name": "stdout",
     "output_type": "stream",
     "text": [
      "+--------------------+--------------------+-------------------+-------------------+-------------------+-------------------+--------------------+--------------------+--------------------+-------------------+--------------------+-------------------+--------------------+--------------------+--------------------+----------+\n",
      "|                  id|          popularity|                key|               mode|     time_signature|              tempo|        acousticness|        danceability|              energy|   instrumentalness|            liveness|           loudness|         speechiness|             valence|            features|prediction|\n",
      "+--------------------+--------------------+-------------------+-------------------+-------------------+-------------------+--------------------+--------------------+--------------------+-------------------+--------------------+-------------------+--------------------+--------------------+--------------------+----------+\n",
      "|000O8nXpAK5QAppKv...| -0.4076598013353838|-1.1919803361617896| 0.7516617180263379|0.26169225141541075| 0.3565664069530006|  -1.133692048157583| -0.1682632163450353|   1.414105236820924|-0.6518304025704676|  0.4601380707278579| 1.1973811867378454|-0.34274081996744393| -0.3290828460657071|[-0.4076598013353...|         3|\n",
      "|000kSCs9tKtH1VXI3...|0.009327289749165626| -0.910908621053557| 0.7516617180263379|0.26169225141541075| 0.4170099058645478|  1.1314821698193127| -0.5627864919609588| -0.9009718201925315|-0.6808777443253997| -0.5662081489500911| 0.6372361788538469| -0.5194403275613357| -0.7027063863699733|[0.00932728974916...|         0|\n",
      "|0010mZpCCwlPwoBiB...|   1.885769199629638|-0.6298369059453244| 0.7516617180263379|-1.6454946561837664| 0.2567620487611713| -0.8513935740432759|-0.05340200952014...|  0.9364462657202561|-0.6808688400935347|-0.31201696549333396|  0.919821509670486| -0.5063190769974328|  0.5573573181855914|[1.88576919962963...|         0|\n",
      "|0026hQeV7FZ0PaZpW...|  0.6348079263759897|  1.618736814920536| 0.7516617180263379|0.26169225141541075| 1.7205043136142288|-0.26834931558301794| -0.2881183886840501|   0.741198803080567|-0.6808777443253997|  1.4070143195246476| 0.6039232740014789|   1.075228990971658| -0.8931811324074425|[0.63480792637598...|         3|\n",
      "|003Zj5utQfbYDofOq...|  0.5653100778618982|-1.1919803361617896| 0.7516617180263379|0.26169225141541075|-0.8987249702782462|  -1.104308718591577|  0.8405178175083381|-0.16182071162799472|-0.6235974722666083|-0.46982967362613215|0.48675374658970166|-0.43458957391476394| -1.3111266809242736|[0.56531007786189...|         0|\n",
      "|003heort6ZPgg46RM...| -0.6161533468776585| 0.7755216695958383| 0.7516617180263379|0.26169225141541075|-1.1786720708592942|  1.1918876560561864|  0.9104333347060968| -1.0230014843423372|  1.507174354223695|-0.45855733733093235|-0.4596486494532191| -0.4958220765463106|  1.0884888215593034|[-0.6161533468776...|         3|\n",
      "|004zTdXYH400nJeJH...|  -0.546655498363567| 0.7755216695958383|-1.3303848576221484| 2.1688791590145877| 1.6783720275279588|  1.3757304402553667| -1.4167545948764384|  -1.364684543961793| 0.6927629031508308| -0.8085633792968885|  -2.27477119358591|-0.08731380899013512|  -1.372298378209384|[-0.5466554983635...|         3|\n",
      "|006x4IC6Fm1xjYtns...| -0.7551490439058417|0.21337823937937322|-1.3303848576221484|-1.6454946561837664|-1.7793458378809275|  1.2601721187587391|  -1.856223560119492| 0.07875205483876516|-0.6802479328032367|  4.1349197029630185|-0.5376180776206151|-0.11530581019312783| -0.7723029281913563|[-0.7551490439058...|         3|\n",
      "|007dnwwA3q2fhQ4AC...| -0.7551490439058417| 1.3376650998123034| 0.7516617180263379|0.26169225141541075| 0.7475685388311383| -1.0875002354647947|  1.0402764380733627|  1.0305834352072487|-0.6808777443253997|  1.2322931069490493| 1.3831867853540705|-0.37423182132081084| -0.6367728204339262|[-0.7551490439058...|         3|\n",
      "|007qEKeXFHJ2r7rMU...|  0.9822971689464476|0.21337823937937322|-1.3303848576221484|0.26169225141541075| -0.451865390988946| -0.9399007430077383|  0.8455117830224637|-0.00492542914967...|-0.6808777443253997| 0.29668919444745956|  0.770487798263319|  1.1801989954828809|  0.5866611252682791|[0.98229716894644...|         2|\n",
      "|00841Yho1fVUDDfA9...| -0.7551490439058417|  1.618736814920536|-1.3303848576221484| 2.1688791590145877|  2.087388433645019|   0.267421084083165|  0.3760790246946563| -1.4863655519283132|-0.6808777443253997| 0.15014882260986115|-2.2836737802274905|   7.539631768787797|  0.6013130288096228|[-0.7551490439058...|         3|\n",
      "|0099y8U9Px3fIJX5L...| -0.7551490439058417|-0.6298369059453244| 0.7516617180263379|0.26169225141541075| -0.849070240004295|  0.8924865503603784|0.016513507677612494|   -0.21760570095362|-0.6808777443253997| -0.7386748942666492| 0.6537490411729087| -0.5964183308695659| 0.05919259777990318|[-0.7551490439058...|         0|\n",
      "|009BdcwF2lB7RZiTS...|0.009327289749165626| 1.3376650998123034| 0.7516617180263379|0.26169225141541075|-1.2826005760838435|  1.2680510952244184|  -1.591543387870835| -1.1310849011607365| 0.1905425083225647| 0.47704657517065746| -0.041801437727396| -0.5308120780500516| -0.9261479153754659|[0.00932728974916...|         0|\n",
      "|009ltBhNaq5XDC4f3...|-0.06017055876492594|  1.056593384704071|-1.3303848576221484|-1.6454946561837664| 1.3331974174774082|   1.310072303041374|-0.42794942307956707| -1.3437651729646833|-0.6808777443253997| -0.6439872693869704|-0.5914643677914686|-0.45820782492978906| -0.3986793878870899|[-0.0601705587649...|         3|\n",
      "|00AYIzevROJfCstNK...| 0.42631438083371503| 0.7755216695958383|-1.3303848576221484|0.26169225141541075| -0.890575655741591|  -0.859272550508955|-0.03342614746364367|  1.3408874383310405|-0.6808777443253997| -0.6400419516836503| 1.1062014687152002|  1.7225440187908652|   0.729517184796381|[0.42631438083371...|         3|\n",
      "|00B1efLzCB1lUNPT8...|  -0.546655498363567| -1.473052051270022| 0.7516617180263379|0.26169225141541075| 1.7870185569579402|  1.0947136129794768|  -0.263148561113422|  -0.566261884238779|-0.6808665325944233| -0.5678989993943712|0.47957424123358794|-0.03657830680971063| -0.5891541339245592|[-0.5466554983635...|         0|\n",
      "|00BhvVsOJkBMJVyoj...|  0.7043057748900813|0.49444995448760576|-1.3303848576221484|0.26169225141541075|-1.1646499709480456|  0.7270280445811158|  0.4310126453500381| 0.45181417095388515| -0.680780014951271|  -0.574662401171491| 0.9607446902003347| -0.3374923197418828| -0.4243202190844415|[0.70430577489008...|         3|\n",
      "|00CNYGlhmuXQcJU81...| -0.6161533468776585| -0.910908621053557| 0.7516617180263379|  -5.45986847138212|0.23036750775176207| -1.0108115311988508| -0.1632692508309097|  0.7969837924061924|-0.6766428047798209|-0.10347874403213618| 0.1911017160249356|  -0.509818077147807|  0.3302528132947631|[-0.6161533468776...|         3|\n",
      "|00CYT9MwnEJva7cCy...|-0.12966840727901752|-1.1919803361617896| 0.7516617180263379|0.26169225141541075| -0.400264063315551|  0.9240024562230951|  1.6445462652825618|  -0.956756809518157|-0.6808777443253997| -0.3796509832645331| 0.6032053234658676| -0.5010705767718717|-0.01040394404147...|[-0.1296684072790...|         0|\n",
      "|00CZIZmqtInPEWdxG...| 0.14832298677734876|-0.3487651908370919| 0.7516617180263379| 2.1688791590145877|-1.1046353833279008|   1.380983091232486| -0.8274666642096161| -0.9707030568495634|-0.6808777443253997| -0.7059851190105696| 0.1603734331007685|-0.30512656835092244| -0.6880544828286296|[0.14832298677734...|         0|\n",
      "+--------------------+--------------------+-------------------+-------------------+-------------------+-------------------+--------------------+--------------------+--------------------+-------------------+--------------------+-------------------+--------------------+--------------------+--------------------+----------+\n",
      "only showing top 20 rows\n",
      "\n"
     ]
    },
    {
     "name": "stderr",
     "output_type": "stream",
     "text": [
      "                                                                                \r"
     ]
    }
   ],
   "source": [
    "from pyspark.ml.feature import VectorAssembler\n",
    "from pyspark.ml.clustering import KMeans\n",
    "\n",
    "selected_features = [\"popularity\", \"key\", \"mode\", \"time_signature\", \"tempo\", \"acousticness\", \"danceability\", \"energy\", \"instrumentalness\", \"liveness\", \"loudness\", \"speechiness\", \"valence\"]\n",
    "\n",
    "# Define Assembler\n",
    "assembler = VectorAssembler(inputCols=selected_features, outputCol=\"features\")\n",
    "\n",
    "# Assemble Features\n",
    "df_assembled_train = assembler.transform(scaled_train)\n",
    "df_assembled_test = assembler.transform(scaled_test)\n",
    "\n",
    "# Create Model == Train Dataset\n",
    "kmeans = KMeans(featuresCol=\"features\", k=4, seed=1)\n",
    "model = kmeans.fit(df_assembled_train)\n",
    "\n",
    "# Check Centers\n",
    "centers = model.clusterCenters()\n",
    "print(\"Cluster Centers:\")\n",
    "for center in centers:\n",
    "    print(center)\n",
    "\n",
    "# Test Dataset\n",
    "df_result = model.transform(df_assembled_test)\n",
    "df_result.show()"
   ]
  },
  {
   "cell_type": "code",
   "execution_count": 13,
   "metadata": {},
   "outputs": [
    {
     "data": {
      "text/plain": [
       "'euclidean'"
      ]
     },
     "execution_count": 13,
     "metadata": {},
     "output_type": "execute_result"
    }
   ],
   "source": [
    "model.getDistanceMeasure()"
   ]
  },
  {
   "cell_type": "code",
   "execution_count": 17,
   "metadata": {},
   "outputs": [
    {
     "name": "stderr",
     "output_type": "stream",
     "text": [
      "[Stage 887:>                                                        (0 + 1) / 1]\r"
     ]
    },
    {
     "name": "stdout",
     "output_type": "stream",
     "text": [
      "+--------------------+--------------------+------------------+\n",
      "|                  id|            features|          distance|\n",
      "+--------------------+--------------------+------------------+\n",
      "|000kSCs9tKtH1VXI3...|[0.00932728974916...| 2.679730034605562|\n",
      "|0010mZpCCwlPwoBiB...|[1.88576919962963...| 2.516595387109374|\n",
      "|003Zj5utQfbYDofOq...|[0.56531007786189...| 2.813559663794831|\n",
      "|0099y8U9Px3fIJX5L...|[-0.7551490439058...|3.2147991916433445|\n",
      "|009BdcwF2lB7RZiTS...|[0.00932728974916...| 4.012952033482548|\n",
      "|00B1efLzCB1lUNPT8...|[-0.5466554983635...|3.5230749456986974|\n",
      "|00CYT9MwnEJva7cCy...|[-0.1296684072790...|3.3332530097812096|\n",
      "|00CZIZmqtInPEWdxG...|[0.14832298677734...|3.6987545826728816|\n",
      "|00DxOoAYGMwVBTdhu...|[2.58074768477055...| 2.794095131817052|\n",
      "|00FjRu5wKkgDfiHog...|[0.77380362340417...| 4.924506791931357|\n",
      "|00JK3hvSqMRgTs0BO...|[-0.7551490439058...| 5.681175045657208|\n",
      "|00JOPzHXgTnWpxYzO...|[-0.6161533468776...|  4.59888989364851|\n",
      "|00L5ETjPbcP9TKG0s...|[0.28731868380553...|3.2198471883856934|\n",
      "|00Mo0jFF8Fp2aT2Ux...|[-0.7551490439058...| 6.107084332544413|\n",
      "|00OLovk3yd1TTjzuS...|[-0.7551490439058...| 5.840768704866321|\n",
      "|00OgsbNMClpwyREPh...|[-0.6161533468776...|3.6238337455972114|\n",
      "|00Pgipy0zwSHqTU8p...|[-0.4076598013353...| 3.567723131700148|\n",
      "|00VF6mDBAPqE7cG03...|[-0.6856511953917...| 4.605826564515208|\n",
      "|00XwwwLboc71lIyYC...|[-0.7551490439058...| 5.278625538259338|\n",
      "|00duMmf0bqbY8iEy4...|[0.42631438083371...| 4.056051352532506|\n",
      "+--------------------+--------------------+------------------+\n",
      "only showing top 20 rows\n",
      "\n"
     ]
    },
    {
     "name": "stderr",
     "output_type": "stream",
     "text": [
      "                                                                                \r"
     ]
    }
   ],
   "source": [
    "from pyspark.sql.functions import col\n",
    "from pyspark.sql.functions import udf\n",
    "from pyspark.sql.types import DoubleType\n",
    "import numpy as np\n",
    "\n",
    "numpy_coordinates = centers[0]\n",
    "\n",
    "def calculate_distance(vector):\n",
    "    return float(np.linalg.norm(vector.toArray() - numpy_coordinates))\n",
    "\n",
    "calculate_distance_udf = udf(calculate_distance, DoubleType())\n",
    "\n",
    "df_with_distance = df_result \\\n",
    "    .filter(\"prediction=0\") \\\n",
    "    .select(\"id\", \"features\") \\\n",
    "    .withColumn('distance', calculate_distance_udf(col('features')))\n",
    "\n",
    "# NumPy 배열을 Broadcast 변수로 변환하여 전체 클러스터에서 공유\n",
    "# broadcasted_coordinates = spark.sparkContext.broadcast(numpy_coordinates)\n",
    "# df_with_distance = df.withColumn('distance', calculate_distance_udf(col('features'), broadcasted_coordinates.value))"
   ]
  },
  {
   "cell_type": "code",
   "execution_count": 20,
   "metadata": {},
   "outputs": [
    {
     "name": "stderr",
     "output_type": "stream",
     "text": [
      "[Stage 920:==================================================>    (31 + 3) / 34]\r"
     ]
    },
    {
     "name": "stdout",
     "output_type": "stream",
     "text": [
      "+--------------------+--------------------+------------------+\n",
      "|                  id|            features|          distance|\n",
      "+--------------------+--------------------+------------------+\n",
      "|2kLaIBv7OwCNbrDlf...|[2.02476489665782...|0.6357580389694055|\n",
      "|1NghJBnRfOjjH7ffK...|[1.95526704814372...|0.6773515540748449|\n",
      "|1725ZPzVwEYaFTztQ...|[2.09426274517191...|0.6849070037733087|\n",
      "|6XLdLztXhlGZsdp7s...|[1.67727565408736...|  0.71556916592349|\n",
      "|0Cwgls4XXwoIhR0Kk...|[2.02476489665782...|0.7228839190108275|\n",
      "|6cfGK1pbi8f7ODCeK...|[1.95526704814372...| 0.731438903134188|\n",
      "|6ZyAlU7tYUGrto7hc...|[2.09426274517191...|0.7427190547223598|\n",
      "|0iq3HEoB7LZIF4kwY...|[1.81627135111554...|0.7518801998154157|\n",
      "|1JjK0xXcFxQqF6LRB...|[1.53827995705918...|0.7670359113729857|\n",
      "|1ntlpw8zsYg1O0nJU...|[1.67727565408736...|0.7871181984300836|\n",
      "|7lHjxYXlvS3GOPy1Z...|[1.74677350260145...|0.7938864450373423|\n",
      "|5rUDkGoOp21WT7y8C...|[1.81627135111554...|0.7945844290277523|\n",
      "|4gQLLI4oii6Dt4IpB...|[2.09426274517191...|0.7953099037050585|\n",
      "|75PNvxakeoKFP7dxd...|[2.30275629071418...|0.8000696228292744|\n",
      "|1LgahI7nRE5oQ9q7B...|[1.46878210854508...|0.8077444526355536|\n",
      "|1h8rTyoDbAZPAzNJn...|[1.32978641151690...|0.8157937585089595|\n",
      "|5vzUmH3eK8uvKpjxv...|[1.81627135111554...|0.8189636720936392|\n",
      "|37dkyQQNJLaqk09kk...|[2.23325844220009...|0.8217747784133187|\n",
      "|6doAIiqd1YfmxIoZu...|[1.81627135111554...|0.8279024101451394|\n",
      "|7358un4Y2JUCStFzR...|[2.23325844220009...|0.8372844656028288|\n",
      "+--------------------+--------------------+------------------+\n",
      "only showing top 20 rows\n",
      "\n"
     ]
    },
    {
     "name": "stderr",
     "output_type": "stream",
     "text": [
      "                                                                                \r"
     ]
    }
   ],
   "source": [
    "df_with_distance\\\n",
    "    .orderBy(\"distance\", ascending=True)\\\n",
    "    .show()"
   ]
  },
  {
   "cell_type": "code",
   "execution_count": null,
   "metadata": {},
   "outputs": [],
   "source": []
  },
  {
   "cell_type": "code",
   "execution_count": 94,
   "metadata": {},
   "outputs": [],
   "source": [
    "spark.stop()"
   ]
  }
 ],
 "metadata": {
  "kernelspec": {
   "display_name": "Python 3",
   "language": "python",
   "name": "python3"
  },
  "language_info": {
   "codemirror_mode": {
    "name": "ipython",
    "version": 3
   },
   "file_extension": ".py",
   "mimetype": "text/x-python",
   "name": "python",
   "nbconvert_exporter": "python",
   "pygments_lexer": "ipython3",
   "version": "3.10.12"
  },
  "orig_nbformat": 4
 },
 "nbformat": 4,
 "nbformat_minor": 2
}
