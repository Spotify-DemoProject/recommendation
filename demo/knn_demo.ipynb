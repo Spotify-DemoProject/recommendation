{
 "cells": [
  {
   "cell_type": "code",
   "execution_count": 79,
   "metadata": {},
   "outputs": [],
   "source": [
    "# DEFINE FUNCTIONS <<<<<<<<<<<<<<<<<<<<<<<<<<<<<<<<<<<\n",
    "\n",
    "def get_access_token(client_id:str, client_sc:str):\n",
    "    import requests\n",
    "    \n",
    "    headers = {\n",
    "        'Content-Type': 'application/x-www-form-urlencoded',\n",
    "    }\n",
    "    data = f'grant_type=client_credentials&client_id={client_id}&client_secret={client_sc}'.encode()\n",
    "    response = requests.post('https://accounts.spotify.com/api/token', headers=headers, data=data).json()\n",
    "    access_token = response['access_token']\n",
    "\n",
    "    return access_token\n",
    "\n",
    "def get_response(access_token:str, endpoint:str, params:dict=None):\n",
    "    import requests, json\n",
    "\n",
    "    url = f\"https://api.spotify.com/v1/{endpoint}\"\n",
    "    headers = {\n",
    "        'Authorization': f'Bearer {access_token}',\n",
    "    }\n",
    "\n",
    "    if params != None:\n",
    "        response = requests.get(url=url, params=params, headers=headers)\n",
    "    else:\n",
    "        response = requests.get(url=url, headers=headers)\n",
    "    print(response)\n",
    "    return response.json()\n",
    "    \n",
    "\n",
    "def post_response(access_token:str, endpoint:str, data:dict=None):\n",
    "    import requests, json\n",
    "\n",
    "    url = f\"https://api.spotify.com/v1/{endpoint}\"\n",
    "    headers = {\n",
    "        \"Authorization\": f\"Bearer {access_token}\",\n",
    "        \"Content-Type\": \"application/json\"\n",
    "    }\n",
    "\n",
    "    response = requests.post(url=url, headers=headers, data=json.dumps(data))\n",
    "    print(response)\n",
    "    return response.json()"
   ]
  },
  {
   "cell_type": "code",
   "execution_count": 17,
   "metadata": {},
   "outputs": [],
   "source": [
    "# INFOS <<<<<<<<<<<<<<<<<<<<<<<<<<<<<<<<<<<\n",
    "\n",
    "from configparser import ConfigParser\n",
    "\n",
    "config = ConfigParser()\n",
    "config.read(\"/home/hooniegit/git/Spotify-DemoProject/recommendation/demo/config.ini\")\n",
    "\n",
    "client_id = config.get(\"spotify\", \"client_id\")\n",
    "client_sc = config.get(\"spotify\", \"client_sc\")\n",
    "user_id = config.get(\"spotify\", \"user_id\")"
   ]
  },
  {
   "cell_type": "code",
   "execution_count": 18,
   "metadata": {},
   "outputs": [],
   "source": [
    "# START CODE <<<<<<<<<<<<<<<<<<<<<<<<<<<<<<<<<<<\n",
    "\n",
    "from pyspark.sql import SparkSession\n",
    "from pyspark.sql.functions import explode\n",
    "from math import ceil\n",
    "import json"
   ]
  },
  {
   "cell_type": "code",
   "execution_count": 20,
   "metadata": {},
   "outputs": [
    {
     "name": "stdout",
     "output_type": "stream",
     "text": [
      "<Response [200]>\n"
     ]
    },
    {
     "name": "stderr",
     "output_type": "stream",
     "text": [
      "                                                                                \r"
     ]
    },
    {
     "name": "stdout",
     "output_type": "stream",
     "text": [
      "<Response [200]>\n"
     ]
    },
    {
     "name": "stderr",
     "output_type": "stream",
     "text": [
      "                                                                                \r"
     ]
    },
    {
     "name": "stdout",
     "output_type": "stream",
     "text": [
      "17\n",
      "<Response [200]>\n"
     ]
    },
    {
     "name": "stderr",
     "output_type": "stream",
     "text": [
      "                                                                                \r"
     ]
    },
    {
     "name": "stdout",
     "output_type": "stream",
     "text": [
      "19\n",
      "<Response [200]>\n"
     ]
    },
    {
     "name": "stderr",
     "output_type": "stream",
     "text": [
      "                                                                                \r"
     ]
    },
    {
     "name": "stdout",
     "output_type": "stream",
     "text": [
      "20\n"
     ]
    }
   ],
   "source": [
    "### Build Session\n",
    "spark = SparkSession.builder \\\n",
    "    .master(config.get(\"spark\", \"master\")) \\\n",
    "    .appName(\"pipeline_demo\") \\\n",
    "    .getOrCreate()\n",
    "\n",
    "### Create Access Token\n",
    "access_token = get_access_token(client_id=client_id, client_sc=client_sc)\n",
    "\n",
    "### Create Playlist Lists\n",
    "endpoint = f\"users/{user_id}/playlists\"\n",
    "params = {\n",
    "    \"limit\": 50,\n",
    "    \"offset\": 0\n",
    "}\n",
    "\n",
    "playlists = get_response(access_token=access_token, endpoint=endpoint, params=params)\n",
    "json_string  = json.dumps(playlists)\n",
    "json_rdd = spark.sparkContext.parallelize([json_string])\n",
    "df_plinfo = spark.read.json(json_rdd, multiLine=True)\n",
    "\n",
    "items = df_plinfo \\\n",
    "    .withColumn(\"items\", explode(\"items\")) \\\n",
    "    .select(\"items.id\") \\\n",
    "    .rdd.flatMap(lambda x: x).collect()\n",
    "\n",
    "### Create Playlist Item Lists\n",
    "track_list = [] # <---------- \"Need To Use\"\n",
    "for id in items:\n",
    "    endpoint = f\"playlists/{id}/tracks\"\n",
    "    playlist_spec = get_response(access_token=access_token, endpoint=endpoint)\n",
    "    \n",
    "    json_string  = json.dumps(playlist_spec)\n",
    "    json_rdd = spark.sparkContext.parallelize([json_string])\n",
    "    df_playlist_spec = spark.read.json(json_rdd, multiLine=True)\n",
    "    \n",
    "    ids = df_playlist_spec \\\n",
    "    .withColumn(\"items\", explode(\"items\")) \\\n",
    "    .select(\"items.track.id\") \\\n",
    "    .rdd.flatMap(lambda x: x).collect()\n",
    "    \n",
    "    track_list += ids\n",
    "    \n",
    "    total = df_playlist_spec.select(\"total\").first()[0]\n",
    "    print(total)\n",
    "    left = int(total)-100\n",
    "    cnt = ceil(left/100)\n",
    "    \n",
    "    for i in range(cnt):\n",
    "        offset = 100 + 100 * i\n",
    "        params = {\"offset\":offset}\n",
    "        \n",
    "        playlist_spec = get_response(access_token=access_token, endpoint=endpoint, params=params)\n",
    "        \n",
    "        json_string  = json.dumps(playlist_spec)\n",
    "        json_rdd = spark.sparkContext.parallelize([json_string])\n",
    "        df_playlist_spec = spark.read.json(json_rdd, multiLine=True)\n",
    "        \n",
    "        ids = df_playlist_spec \\\n",
    "        .withColumn(\"items\", explode(\"items\")) \\\n",
    "        .select(\"items.track.id\") \\\n",
    "        .rdd.flatMap(lambda x: x).collect()\n",
    "        \n",
    "        track_list += ids      \n"
   ]
  },
  {
   "cell_type": "code",
   "execution_count": 21,
   "metadata": {},
   "outputs": [
    {
     "name": "stdout",
     "output_type": "stream",
     "text": [
      "0\n",
      "<Response [200]>\n",
      "<Response [200]>\n"
     ]
    },
    {
     "name": "stderr",
     "output_type": "stream",
     "text": [
      "                                                                                \r"
     ]
    },
    {
     "name": "stdout",
     "output_type": "stream",
     "text": [
      "1\n",
      "<Response [200]>\n"
     ]
    },
    {
     "name": "stderr",
     "output_type": "stream",
     "text": [
      "                                                                                \r"
     ]
    },
    {
     "name": "stdout",
     "output_type": "stream",
     "text": [
      "<Response [200]>\n"
     ]
    }
   ],
   "source": [
    "# Create Dataframe : main_df\n",
    "big_list = []\n",
    "cnt = ceil(len(track_list)/50)\n",
    "for j in range(cnt):\n",
    "    big_list.append(track_list[j*50:(j+1)*50])\n",
    "\n",
    "\n",
    "main_df = None\n",
    "cnt = 0\n",
    "for small_list in big_list:\n",
    "    \n",
    "    print(cnt)\n",
    "    \n",
    "    tracks = \"\"\n",
    "    for id in small_list:\n",
    "        tracks += f\",{id}\"\n",
    "    tracks = tracks[1:]\n",
    "    \n",
    "    endpoint = \"tracks\"\n",
    "    params = {\"ids\":tracks}\n",
    "    track = get_response(access_token=access_token, endpoint=endpoint, params=params)\n",
    "    \n",
    "    json_string  = json.dumps(track)\n",
    "    json_rdd = spark.sparkContext.parallelize([json_string])\n",
    "    df_tracks = spark.read.json(json_rdd, multiLine=True)\n",
    "    \n",
    "    df_tracks = spark.read.json(json_rdd, multiLine=True) \\\n",
    "        .withColumn(\"tracks\", explode(\"tracks\")) \\\n",
    "        .selectExpr(\"tracks.id\",\n",
    "                    \"tracks.popularity\")\n",
    "    \n",
    "    endpoint = \"audio-features\"\n",
    "    params = {\"ids\":tracks}\n",
    "    audio_features = get_response(access_token=access_token, endpoint=endpoint, params=params)\n",
    "    \n",
    "    json_string  = json.dumps(audio_features)\n",
    "    json_rdd = spark.sparkContext.parallelize([json_string])\n",
    "    df_audio_features = spark.read.json(json_rdd, multiLine=True) \\\n",
    "        .withColumn(\"audio_features\", explode(\"audio_features\")) \\\n",
    "        .selectExpr(\"audio_features.id\",\n",
    "                    \"audio_features.key\",\n",
    "                    \"audio_features.mode\",\n",
    "                    \"audio_features.time_signature\",\n",
    "                    \"audio_features.tempo\",\n",
    "                    \"audio_features.acousticness\",\n",
    "                    \"audio_features.danceability\",\n",
    "                    \"audio_features.energy\",\n",
    "                    \"audio_features.instrumentalness\",\n",
    "                    \"audio_features.liveness\",\n",
    "                    \"audio_features.loudness\",\n",
    "                    \"audio_features.speechiness\",\n",
    "                    \"audio_features.valence\")\n",
    "    \n",
    "    result_track_df = df_tracks.join(df_audio_features, \"id\", \"left\")\n",
    "    if cnt == 0:\n",
    "        main_df = result_track_df\n",
    "    else:\n",
    "        main_df = main_df.union(result_track_df)\n",
    "    cnt += 1"
   ]
  },
  {
   "cell_type": "code",
   "execution_count": 22,
   "metadata": {},
   "outputs": [
    {
     "name": "stderr",
     "output_type": "stream",
     "text": [
      "[Stage 32:>                                                         (0 + 1) / 1]\r"
     ]
    },
    {
     "name": "stdout",
     "output_type": "stream",
     "text": [
      "+--------------------+----------+---+----+--------------+-------+------------+------------+------+----------------+--------+--------+-----------+-------+\n",
      "|                  id|popularity|key|mode|time_signature|  tempo|acousticness|danceability|energy|instrumentalness|liveness|loudness|speechiness|valence|\n",
      "+--------------------+----------+---+----+--------------+-------+------------+------------+------+----------------+--------+--------+-----------+-------+\n",
      "|000O8nXpAK5QAppKv...|         5|  1|   1|             4|128.018|     5.12E-4|       0.504|  0.93|          0.0107|   0.281|   -2.89|     0.0539|  0.355|\n",
      "|000kSCs9tKtH1VXI3...|        11|  2|   1|             4| 129.85|       0.863|       0.425| 0.266|             0.0|  0.0989|  -6.791|     0.0337|  0.253|\n",
      "|0010mZpCCwlPwoBiB...|        38|  3|   1|             3|124.993|       0.108|       0.527| 0.793|         3.28E-6|   0.144|  -4.823|     0.0352|  0.597|\n",
      "|0026hQeV7FZ0PaZpW...|        20| 11|   1|             4|169.358|        0.33|        0.48| 0.737|             0.0|   0.449|  -7.023|      0.216|  0.201|\n",
      "|003Zj5utQfbYDofOq...|        19|  1|   1|             4| 89.971|      0.0117|       0.706| 0.478|          0.0211|   0.116|  -7.839|     0.0434| 0.0869|\n",
      "|003heort6ZPgg46RM...|         2|  8|   1|             4| 81.486|       0.886|        0.72| 0.231|           0.806|   0.118|  -14.43|     0.0364|  0.742|\n",
      "|004zTdXYH400nJeJH...|         3|  8|   0|             5|168.081|       0.956|       0.254| 0.133|           0.506|  0.0559| -27.071|     0.0831| 0.0702|\n",
      "|006x4IC6Fm1xjYtns...|         0|  6|   0|             3|  63.28|       0.912|       0.166| 0.547|         2.32E-4|   0.933| -14.973|     0.0799|  0.234|\n",
      "|007dnwwA3q2fhQ4AC...|         0| 10|   1|             4|139.869|      0.0181|       0.746|  0.82|             0.0|   0.418|  -1.596|     0.0503|  0.271|\n",
      "|007qEKeXFHJ2r7rMU...|        25|  6|   0|             4|103.515|      0.0743|       0.707| 0.523|             0.0|   0.252|  -5.863|      0.228|  0.605|\n",
      "|00841Yho1fVUDDfA9...|         0| 11|   0|             5|180.478|       0.534|       0.613|0.0981|             0.0|   0.226| -27.133|      0.955|  0.609|\n",
      "|0099y8U9Px3fIJX5L...|         0|  3|   1|             4| 91.476|       0.772|       0.541| 0.462|             0.0|  0.0683|  -6.676|     0.0249|  0.461|\n",
      "|009BdcwF2lB7RZiTS...|        11| 10|   1|             4| 78.336|       0.915|       0.219|   0.2|           0.321|   0.284|  -11.52|     0.0324|  0.192|\n",
      "|009ltBhNaq5XDC4f3...|        10|  9|   0|             3|157.619|       0.931|       0.452| 0.139|             0.0|  0.0851| -15.348|     0.0407|  0.336|\n",
      "|00AYIzevROJfCstNK...|        17|  8|   0|             4| 90.218|       0.105|       0.531| 0.909|             0.0|  0.0858|  -3.525|       0.29|  0.644|\n",
      "|00B1efLzCB1lUNPT8...|         3|  0|   1|             4|171.374|       0.849|       0.485| 0.362|         4.13E-6|  0.0986|  -7.889|     0.0889|  0.284|\n",
      "|00BhvVsOJkBMJVyoj...|        21|  7|   0|             4| 81.911|       0.709|       0.624| 0.654|          3.6E-5|  0.0974|  -4.538|     0.0545|  0.329|\n",
      "|00CNYGlhmuXQcJU81...|         2|  2|   1|             1|124.193|      0.0473|       0.505| 0.753|         0.00156|   0.181|  -9.898|     0.0348|  0.535|\n",
      "|00CYT9MwnEJva7cCy...|         9|  1|   1|             4|105.079|       0.784|       0.867|  0.25|             0.0|   0.132|  -7.028|     0.0358|  0.442|\n",
      "|00CZIZmqtInPEWdxG...|        13|  4|   1|             5|  83.73|       0.958|       0.372| 0.246|             0.0|  0.0741| -10.112|     0.0582|  0.257|\n",
      "+--------------------+----------+---+----+--------------+-------+------------+------------+------+----------------+--------+--------+-----------+-------+\n",
      "only showing top 20 rows\n",
      "\n"
     ]
    },
    {
     "name": "stderr",
     "output_type": "stream",
     "text": [
      "                                                                                \r"
     ]
    }
   ],
   "source": [
    "### Load Dataframe : df_dw\n",
    "dw_tracks = spark.read.parquet(\"file:///home/hooniegit/git/Spotify-DemoProject/spark/data/parquet/tracks/main/*\")\n",
    "dw_audioFeatures = spark.read.parquet(\"file:///home/hooniegit/git/Spotify-DemoProject/spark/data/parquet/tracks/audio_features/*\")\n",
    "df_dw = dw_tracks.join(dw_audioFeatures, \"id\", \"inner\")\n",
    "\n",
    "df_dw.show() # << TEST"
   ]
  },
  {
   "cell_type": "code",
   "execution_count": 28,
   "metadata": {},
   "outputs": [
    {
     "name": "stderr",
     "output_type": "stream",
     "text": [
      "                                                                                \r"
     ]
    },
    {
     "name": "stdout",
     "output_type": "stream",
     "text": [
      "Cluster Centers:\n",
      "[ 2.09515646e+00  1.50236128e+00  1.65469882e+00  3.07697694e+01\n",
      "  5.96699065e+00  2.16875808e+00  4.39646952e+00  3.00768884e+00\n",
      "  1.56655839e-03  1.11411292e+00 -3.11720687e+00  7.99477989e-01\n",
      "  1.45901860e+00]\n",
      "[ 2.64677188  1.62550565  0.         31.24315051  5.25612042  0.56045294\n",
      "  6.42199462  4.90811984 10.59962709  0.6982741  -1.16375907  1.01272458\n",
      "  3.6305724 ]\n",
      "[ 2.63658022  1.33925308  1.14476019 31.24315051  5.87248036  0.43306078\n",
      "  5.64519108  5.0335193   0.08347468  1.51129427 -1.67051884  1.72694773\n",
      "  3.09453942]\n",
      "[ 1.53944895e+00  1.80877344e+00  8.32756920e-01  3.12431505e+01\n",
      "  5.48980704e+00  7.70542800e-01  4.91380253e+00  4.58578034e+00\n",
      "  2.59466620e-03  1.85139590e+00 -2.11223799e+00  1.15618116e+00\n",
      "  1.82347482e+00]\n"
     ]
    },
    {
     "name": "stderr",
     "output_type": "stream",
     "text": [
      "[Stage 1224:==================================================>   (16 + 1) / 17]\r"
     ]
    },
    {
     "name": "stdout",
     "output_type": "stream",
     "text": [
      "+--------------------+----------+---+----+--------------+-------+------------+------------+------+----------------+--------+--------+-----------+-------+--------------------+--------------------+----------+\n",
      "|                  id|popularity|key|mode|time_signature|  tempo|acousticness|danceability|energy|instrumentalness|liveness|loudness|speechiness|valence|            features|      scaledFeatures|prediction|\n",
      "+--------------------+----------+---+----+--------------+-------+------------+------------+------+----------------+--------+--------+-----------+-------+--------------------+--------------------+----------+\n",
      "|000O8nXpAK5QAppKv...|         5|  1|   1|             4|128.018|     5.12E-4|       0.504|  0.93|          0.0107|   0.281|   -2.89|     0.0539|  0.355|[5.0,1.0,1.0,4.0,...|[0.34752277128777...|         0|\n",
      "|000kSCs9tKtH1VXI3...|        11|  2|   1|             4| 129.85|       0.863|       0.425| 0.266|             0.0|  0.0989|  -6.791|     0.0337|  0.253|[11.0,2.0,1.0,4.0...|[0.76455009683310...|         0|\n",
      "|0010mZpCCwlPwoBiB...|        38|  3|   1|             3|124.993|       0.108|       0.527| 0.793|         3.28E-6|   0.144|  -4.823|     0.0352|  0.597|[38.0,3.0,1.0,3.0...|[2.64117306178708...|         0|\n",
      "|0026hQeV7FZ0PaZpW...|        20| 11|   1|             4|169.358|        0.33|        0.48| 0.737|             0.0|   0.449|  -7.023|      0.216|  0.201|[20.0,11.0,1.0,4....|[1.39009108515109...|         0|\n",
      "|003Zj5utQfbYDofOq...|        19|  1|   1|             4| 89.971|      0.0117|       0.706| 0.478|          0.0211|   0.116|  -7.839|     0.0434| 0.0869|[19.0,1.0,1.0,4.0...|[1.32058653089354...|         0|\n",
      "|003heort6ZPgg46RM...|         2|  8|   1|             4| 81.486|       0.886|        0.72| 0.231|           0.806|   0.118|  -14.43|     0.0364|  0.742|[2.0,8.0,1.0,4.0,...|[0.13900910851510...|         0|\n",
      "|004zTdXYH400nJeJH...|         3|  8|   0|             5|168.081|       0.956|       0.254| 0.133|           0.506|  0.0559| -27.071|     0.0831| 0.0702|[3.0,8.0,0.0,5.0,...|[0.20851366277266...|         0|\n",
      "|006x4IC6Fm1xjYtns...|         0|  6|   0|             3|  63.28|       0.912|       0.166| 0.547|         2.32E-4|   0.933| -14.973|     0.0799|  0.234|[0.0,6.0,0.0,3.0,...|[0.0,1.6864314198...|         0|\n",
      "|007dnwwA3q2fhQ4AC...|         0| 10|   1|             4|139.869|      0.0181|       0.746|  0.82|             0.0|   0.418|  -1.596|     0.0503|  0.271|[0.0,10.0,1.0,4.0...|[0.0,2.8107190331...|         0|\n",
      "|007qEKeXFHJ2r7rMU...|        25|  6|   0|             4|103.515|      0.0743|       0.707| 0.523|             0.0|   0.252|  -5.863|      0.228|  0.605|[25.0,6.0,0.0,4.0...|[1.73761385643887...|         0|\n",
      "|00841Yho1fVUDDfA9...|         0| 11|   0|             5|180.478|       0.534|       0.613|0.0981|             0.0|   0.226| -27.133|      0.955|  0.609|[0.0,11.0,0.0,5.0...|[0.0,3.0917909364...|         0|\n",
      "|0099y8U9Px3fIJX5L...|         0|  3|   1|             4| 91.476|       0.772|       0.541| 0.462|             0.0|  0.0683|  -6.676|     0.0249|  0.461|[0.0,3.0,1.0,4.0,...|[0.0,0.8432157099...|         0|\n",
      "|009BdcwF2lB7RZiTS...|        11| 10|   1|             4| 78.336|       0.915|       0.219|   0.2|           0.321|   0.284|  -11.52|     0.0324|  0.192|[11.0,10.0,1.0,4....|[0.76455009683310...|         0|\n",
      "|009ltBhNaq5XDC4f3...|        10|  9|   0|             3|157.619|       0.931|       0.452| 0.139|             0.0|  0.0851| -15.348|     0.0407|  0.336|[10.0,9.0,0.0,3.0...|[0.69504554257554...|         0|\n",
      "|00AYIzevROJfCstNK...|        17|  8|   0|             4| 90.218|       0.105|       0.531| 0.909|             0.0|  0.0858|  -3.525|       0.29|  0.644|[17.0,8.0,0.0,4.0...|[1.18157742237843...|         0|\n",
      "|00B1efLzCB1lUNPT8...|         3|  0|   1|             4|171.374|       0.849|       0.485| 0.362|         4.13E-6|  0.0986|  -7.889|     0.0889|  0.284|[3.0,0.0,1.0,4.0,...|[0.20851366277266...|         0|\n",
      "|00BhvVsOJkBMJVyoj...|        21|  7|   0|             4| 81.911|       0.709|       0.624| 0.654|          3.6E-5|  0.0974|  -4.538|     0.0545|  0.329|[21.0,7.0,0.0,4.0...|[1.45959563940865...|         0|\n",
      "|00CNYGlhmuXQcJU81...|         2|  2|   1|             1|124.193|      0.0473|       0.505| 0.753|         0.00156|   0.181|  -9.898|     0.0348|  0.535|[2.0,2.0,1.0,1.0,...|[0.13900910851510...|         0|\n",
      "|00CYT9MwnEJva7cCy...|         9|  1|   1|             4|105.079|       0.784|       0.867|  0.25|             0.0|   0.132|  -7.028|     0.0358|  0.442|[9.0,1.0,1.0,4.0,...|[0.62554098831799...|         0|\n",
      "|00CZIZmqtInPEWdxG...|        13|  4|   1|             5|  83.73|       0.958|       0.372| 0.246|             0.0|  0.0741| -10.112|     0.0582|  0.257|[13.0,4.0,1.0,5.0...|[0.90355920534821...|         0|\n",
      "+--------------------+----------+---+----+--------------+-------+------------+------------+------+----------------+--------+--------+-----------+-------+--------------------+--------------------+----------+\n",
      "only showing top 20 rows\n",
      "\n"
     ]
    },
    {
     "name": "stderr",
     "output_type": "stream",
     "text": [
      "                                                                                \r"
     ]
    },
    {
     "data": {
      "text/plain": [
       "'\\n    parquet에서 불러온 데이터프레임의 경우\\n        - Vector Assembling 진행\\n        - Standard Scaling 진행\\n        - KMeans 군집화 진행\\n        => 정상 동작\\n'"
      ]
     },
     "execution_count": 28,
     "metadata": {},
     "output_type": "execute_result"
    }
   ],
   "source": [
    "### TEST : EACH\n",
    "\n",
    "from pyspark.ml.feature import VectorAssembler\n",
    "from pyspark.ml.feature import StandardScaler\n",
    "from pyspark.ml.clustering import KMeans\n",
    "\n",
    "# Define Assembler\n",
    "selected_features = [\"popularity\", \"key\", \"mode\", \"time_signature\", \"tempo\", \"acousticness\", \"danceability\", \"energy\", \"instrumentalness\", \"liveness\", \"loudness\", \"speechiness\", \"valence\"]\n",
    "assembler = VectorAssembler(inputCols=selected_features, outputCol=\"features\")\n",
    "\n",
    "# Assemble Features\n",
    "df_assembled_main = assembler.transform(main_df)\n",
    "df_assembled_s3 = assembler.transform(df_dw)\n",
    "\n",
    "# Define Scaler\n",
    "standard_scaler = StandardScaler(inputCol=\"features\", outputCol=\"scaledFeatures\")\n",
    "\n",
    "# Scale Assembled Parquet DF - Playlist\n",
    "standard_model_main = standard_scaler.fit(df_assembled_main)\n",
    "scaled_df_assembled_main = standard_model_main.transform(df_assembled_main)\n",
    "\n",
    "# Scale Assembled Parquet DF - DW\n",
    "standard_model_s3 = standard_scaler.fit(df_assembled_s3)\n",
    "scaled_df_assembled_s3 = standard_model_s3.transform(df_assembled_s3)\n",
    "\n",
    "# Create Model == Train Dataset(Playlist)\n",
    "kmeans = KMeans(featuresCol=\"scaledFeatures\", k=4, seed=1)\n",
    "model = kmeans.fit(scaled_df_assembled_main)\n",
    "\n",
    "# Check Centers\n",
    "centers = model.clusterCenters()\n",
    "print(\"Cluster Centers:\")\n",
    "for center in centers:\n",
    "    print(center)\n",
    "\n",
    "# Test Dataset(DW)\n",
    "df_result = model.transform(scaled_df_assembled_s3)\n",
    "df_result.show()\n",
    "\n",
    "\n",
    "\"\"\"\n",
    "    parquet에서 불러온 데이터프레임의 경우\n",
    "        - Vector Assembling 각기 진행\n",
    "        - Standard Scaling 진행\n",
    "        - KMeans 군집화 진행\n",
    "        => 정상 동작\n",
    "\"\"\""
   ]
  },
  {
   "cell_type": "code",
   "execution_count": 23,
   "metadata": {},
   "outputs": [],
   "source": [
    "### Union Dataframe : df\n",
    "from pyspark.sql.functions import col\n",
    "\n",
    "df = df_dw \\\n",
    "    .filter(~col(\"id\").isin(track_list)) \\\n",
    "    .union(main_df)"
   ]
  },
  {
   "cell_type": "code",
   "execution_count": null,
   "metadata": {},
   "outputs": [],
   "source": [
    "# 고려해야 할 사항들\n",
    "\"\"\"\n",
    "    0. 스케일링 가능 항목 : acousticness, danceability, energy, instrumentalness, liveness, speechiness, valence\n",
    "    1. loudness 항목 : 절댓값 반환 필요 / 계산식 확인 필요\n",
    "            from pyspark.sql.functions import abs\n",
    "            df = df \\\n",
    "                .withColumn(\"loudness\", abs(\"loudness\"))\n",
    "    2. mode 항목 : 0 또는 1만 가짐\n",
    "    3. key, tempo 항목 : 이상치가 큰 영향을 끼칠 수 있음\n",
    "    4. Null 값 확인\n",
    "            #1번 - scaled_df.filter(col(\"features\").isNull()).count()\n",
    "            #2번 - from pyspark.sql.functions import sum\n",
    "                   df \\\n",
    "                       .select([sum(col(column).isNull().cast(\"int\")).alias(column + \"_null_count\") for column in df.columns]) \\\n",
    "                       .show()\n",
    "\"\"\""
   ]
  },
  {
   "cell_type": "code",
   "execution_count": 29,
   "metadata": {},
   "outputs": [
    {
     "name": "stderr",
     "output_type": "stream",
     "text": [
      "                                                                                \r"
     ]
    },
    {
     "name": "stdout",
     "output_type": "stream",
     "text": [
      "Cluster Centers:\n",
      "[ 0.3538954   1.42194005  1.4411359   6.95556903  3.42287009  2.31031371\n",
      "  1.72909809  0.61484765  1.37453573  0.91152591 -2.82729011  0.43023123\n",
      "  0.84939467]\n",
      "[ 0.89789533  1.34585524  2.08204658  7.52045263  4.08341734  0.69845268\n",
      "  2.96760305  2.29603622  0.40922837  1.19286778 -1.1168708   0.58428837\n",
      "  1.94149372]\n",
      "[ 0.93704904  1.728517    0.          7.54733868  4.04320023  0.59334652\n",
      "  3.10980173  2.36243712  0.51894269  1.14234023 -1.11574621  0.69537472\n",
      "  1.8821592 ]\n",
      "[ 0.9043051   1.50472815  1.26642417  7.50527711  3.83416934  0.80946278\n",
      "  3.33430537  2.15850055  0.10341378  1.45230817 -1.30025187  3.4962747\n",
      "  2.04674485]\n"
     ]
    },
    {
     "name": "stderr",
     "output_type": "stream",
     "text": [
      "[Stage 1493:==================================================>   (16 + 1) / 17]\r"
     ]
    },
    {
     "name": "stdout",
     "output_type": "stream",
     "text": [
      "+--------------------+----------+---+----+--------------+-------+------------+------------+------+----------------+--------+--------+-----------+-------+--------------------+--------------------+----------+\n",
      "|                  id|popularity|key|mode|time_signature|  tempo|acousticness|danceability|energy|instrumentalness|liveness|loudness|speechiness|valence|            features|      scaledFeatures|prediction|\n",
      "+--------------------+----------+---+----+--------------+-------+------------+------------+------+----------------+--------+--------+-----------+-------+--------------------+--------------------+----------+\n",
      "|000O8nXpAK5QAppKv...|         5|  1|   1|             4|128.018|     5.12E-4|       0.504|  0.93|          0.0107|   0.281|   -2.89|     0.0539|  0.355|[5.0,1.0,1.0,4.0,...|[0.34749044357066...|         1|\n",
      "|000kSCs9tKtH1VXI3...|        11|  2|   1|             4| 129.85|       0.863|       0.425| 0.266|             0.0|  0.0989|  -6.791|     0.0337|  0.253|[11.0,2.0,1.0,4.0...|[0.76447897585547...|         1|\n",
      "|0010mZpCCwlPwoBiB...|        38|  3|   1|             3|124.993|       0.108|       0.527| 0.793|         3.28E-6|   0.144|  -4.823|     0.0352|  0.597|[38.0,3.0,1.0,3.0...|[2.64092737113709...|         1|\n",
      "|0026hQeV7FZ0PaZpW...|        20| 11|   1|             4|169.358|        0.33|        0.48| 0.737|             0.0|   0.449|  -7.023|      0.216|  0.201|[20.0,11.0,1.0,4....|[1.38996177428267...|         1|\n",
      "|003Zj5utQfbYDofOq...|        19|  1|   1|             4| 89.971|      0.0117|       0.706| 0.478|          0.0211|   0.116|  -7.839|     0.0434| 0.0869|[19.0,1.0,1.0,4.0...|[1.32046368556854...|         1|\n",
      "|003heort6ZPgg46RM...|         2|  8|   1|             4| 81.486|       0.886|        0.72| 0.231|           0.806|   0.118|  -14.43|     0.0364|  0.742|[2.0,8.0,1.0,4.0,...|[0.13899617742826...|         0|\n",
      "|004zTdXYH400nJeJH...|         3|  8|   0|             5|168.081|       0.956|       0.254| 0.133|           0.506|  0.0559| -27.071|     0.0831| 0.0702|[3.0,8.0,0.0,5.0,...|[0.20849426614240...|         0|\n",
      "|006x4IC6Fm1xjYtns...|         0|  6|   0|             3|  63.28|       0.912|       0.166| 0.547|         2.32E-4|   0.933| -14.973|     0.0799|  0.234|[0.0,6.0,0.0,3.0,...|[0.0,1.6864302906...|         0|\n",
      "|007dnwwA3q2fhQ4AC...|         0| 10|   1|             4|139.869|      0.0181|       0.746|  0.82|             0.0|   0.418|  -1.596|     0.0503|  0.271|[0.0,10.0,1.0,4.0...|[0.0,2.8107171510...|         1|\n",
      "|007qEKeXFHJ2r7rMU...|        25|  6|   0|             4|103.515|      0.0743|       0.707| 0.523|             0.0|   0.252|  -5.863|      0.228|  0.605|[25.0,6.0,0.0,4.0...|[1.73745221785334...|         2|\n",
      "|00841Yho1fVUDDfA9...|         0| 11|   0|             5|180.478|       0.534|       0.613|0.0981|             0.0|   0.226| -27.133|      0.955|  0.609|[0.0,11.0,0.0,5.0...|[0.0,3.0917888661...|         3|\n",
      "|0099y8U9Px3fIJX5L...|         0|  3|   1|             4| 91.476|       0.772|       0.541| 0.462|             0.0|  0.0683|  -6.676|     0.0249|  0.461|[0.0,3.0,1.0,4.0,...|[0.0,0.8432151453...|         1|\n",
      "|009BdcwF2lB7RZiTS...|        11| 10|   1|             4| 78.336|       0.915|       0.219|   0.2|           0.321|   0.284|  -11.52|     0.0324|  0.192|[11.0,10.0,1.0,4....|[0.76447897585547...|         0|\n",
      "|009ltBhNaq5XDC4f3...|        10|  9|   0|             3|157.619|       0.931|       0.452| 0.139|             0.0|  0.0851| -15.348|     0.0407|  0.336|[10.0,9.0,0.0,3.0...|[0.69498088714133...|         0|\n",
      "|00AYIzevROJfCstNK...|        17|  8|   0|             4| 90.218|       0.105|       0.531| 0.909|             0.0|  0.0858|  -3.525|       0.29|  0.644|[17.0,8.0,0.0,4.0...|[1.18146750814027...|         2|\n",
      "|00B1efLzCB1lUNPT8...|         3|  0|   1|             4|171.374|       0.849|       0.485| 0.362|         4.13E-6|  0.0986|  -7.889|     0.0889|  0.284|[3.0,0.0,1.0,4.0,...|[0.20849426614240...|         1|\n",
      "|00BhvVsOJkBMJVyoj...|        21|  7|   0|             4| 81.911|       0.709|       0.624| 0.654|          3.6E-5|  0.0974|  -4.538|     0.0545|  0.329|[21.0,7.0,0.0,4.0...|[1.45945986299681...|         2|\n",
      "|00CNYGlhmuXQcJU81...|         2|  2|   1|             1|124.193|      0.0473|       0.505| 0.753|         0.00156|   0.181|  -9.898|     0.0348|  0.535|[2.0,2.0,1.0,1.0,...|[0.13899617742826...|         1|\n",
      "|00CYT9MwnEJva7cCy...|         9|  1|   1|             4|105.079|       0.784|       0.867|  0.25|             0.0|   0.132|  -7.028|     0.0358|  0.442|[9.0,1.0,1.0,4.0,...|[0.62548279842720...|         1|\n",
      "|00CZIZmqtInPEWdxG...|        13|  4|   1|             5|  83.73|       0.958|       0.372| 0.246|             0.0|  0.0741| -10.112|     0.0582|  0.257|[13.0,4.0,1.0,5.0...|[0.90347515328374...|         0|\n",
      "+--------------------+----------+---+----+--------------+-------+------------+------------+------+----------------+--------+--------+-----------+-------+--------------------+--------------------+----------+\n",
      "only showing top 20 rows\n",
      "\n"
     ]
    },
    {
     "name": "stderr",
     "output_type": "stream",
     "text": [
      "                                                                                \r"
     ]
    }
   ],
   "source": [
    "### TEST : UNION\n",
    "# Define Assembler\n",
    "selected_features = [\"popularity\", \"key\", \"mode\", \"time_signature\", \"tempo\", \"acousticness\", \"danceability\", \"energy\", \"instrumentalness\", \"liveness\", \"loudness\", \"speechiness\", \"valence\"]\n",
    "\n",
    "# Assemble Features\n",
    "assembler = VectorAssembler(inputCols=selected_features, outputCol=\"features\")\n",
    "df_assembled = assembler.transform(df)\n",
    "\n",
    "# Define Scaler\n",
    "standard_scaler = StandardScaler(inputCol=\"features\", outputCol=\"scaledFeatures\")\n",
    "\n",
    "# Scale Dataframe - Union\n",
    "standard_model = standard_scaler.fit(df_assembled)\n",
    "scaled_df = standard_model.transform(df_assembled)\n",
    "\n",
    "# Create Model == Train Dataset\n",
    "kmeans = KMeans(featuresCol=\"scaledFeatures\", k=4, seed=1)\n",
    "model = kmeans.fit(scaled_df)\n",
    "\n",
    "# Check Centers\n",
    "centers = model.clusterCenters()\n",
    "print(\"Cluster Centers:\")\n",
    "for center in centers:\n",
    "    print(center)\n",
    "\n",
    "# Test Dataset\n",
    "df_result = model.transform(scaled_df)\n",
    "df_result.show()\n",
    "\n",
    "\"\"\"\n",
    "    StandardScaler 모델의 부분적 한계\n",
    "        : 현재 시나리오에서 적용 불가\n",
    "        (전체 데이터셋에 대해서 스케일링 -> 데이터 분할(이 부분이 불가) -> Playlist 데이터셋으로 학습 -> S3 데이터셋으로 추출)\n",
    "    해결 방법\n",
    "        : 원본 데이터의 각 컬럼 스케일링\n",
    "\"\"\""
   ]
  },
  {
   "cell_type": "code",
   "execution_count": 24,
   "metadata": {},
   "outputs": [
    {
     "name": "stderr",
     "output_type": "stream",
     "text": [
      "[Stage 580:===================================================>   (16 + 1) / 17]\r"
     ]
    },
    {
     "name": "stdout",
     "output_type": "stream",
     "text": [
      "+--------------------+--------------------+-------------------+-------------------+-------------------+-------------------+-------------------+--------------------+--------------------+-------------------+--------------------+--------------------+--------------------+--------------------+\n",
      "|                  id|          popularity|                key|               mode|     time_signature|              tempo|       acousticness|        danceability|              energy|   instrumentalness|            liveness|            loudness|         speechiness|             valence|\n",
      "+--------------------+--------------------+-------------------+-------------------+-------------------+-------------------+-------------------+--------------------+--------------------+-------------------+--------------------+--------------------+--------------------+--------------------+\n",
      "|000O8nXpAK5QAppKv...| -0.4076159047298401|-1.1919767101531094| 0.7516530125809598|  0.261699250217587|0.35657745320829687|-1.1337016057974327|-0.16823514952679058|  1.4141491836586348|-0.6518529801487454| 0.46012550562686055|  1.1974313952498736|-0.34274962269671955| -0.3290574363493046|\n",
      "|000kSCs9tKtH1VXI3...|0.009380456636289518| -0.910904608633852| 0.7516530125809598|  0.261699250217587|0.41702008346731845| 1.1314524083952744| -0.5627543048867277| -0.9009357675698961|-0.6808999947259956| -0.5662045565541886|  0.6372840726923709| -0.5194459379243961| -0.7026817922624948|\n",
      "|0010mZpCCwlPwoBiB...|   1.885864082783873|-0.6298325071145946| 0.7516530125809598|-1.6454478735549092| 0.2567745293362765|-0.8514056495898732|-0.05337514227009...|  0.9364885837816638|-0.6808910905944243|-0.31201737476195734|  0.9198705712294551| -0.5063249244173904|  0.5573846629741469|\n",
      "|0026hQeV7FZ0PaZpW...|   0.634874998685484| 1.6187443050394645| 0.7516530125809598|  0.261699250217587| 1.7204957582890619| -0.268366591480333| -0.2880890701424678|  0.7412404553647995|-0.6808999947259956|  1.4069868480014691|  0.6039710301819017|  1.0751945702936947| -0.8931569541005918|\n",
      "|003Zj5utQfbYDofOq...|  0.5653756051244624|-1.1919767101531094| 0.7516530125809598|  0.261699250217587|-0.8986958838359184|-1.1043185383103629|  0.8405353489884915|-0.16178213856319668|-0.6236203678493618| -0.4698275984910587| 0.48680101859335445| -0.4345967172457594|  -1.311103414979955|\n",
      "|003heort6ZPgg46RM...| -0.6161140854129049| 0.7755280004816923| 0.7516530125809598|  0.261699250217587|-1.1786389612091717| 1.1918573558570738|  0.9104501360143031| -1.0229658478304364| 1.5071274584762242|-0.45855543965326584| -0.4596052882450206| -0.4958281136117859|  1.0885173257919176|\n",
      "|004zTdXYH400nJeJH...| -0.5466146918518834| 0.7755280004816923|-1.3304002657497414|  2.168846373990083| 1.6783640776991209| 1.3756985003060278|  -1.416713489273427| -1.3646500725599484|  0.692725180609393| -0.8085559715667372| -2.2747353329641684|-0.08732722642700899|  -1.372275245801036|\n",
      "|006x4IC6Fm1xjYtns...| -0.7551128725349482|0.21338379744317754|-1.3304002657497414|-1.6454478735549092| -1.779304095759254| 1.2601412095095426| -1.8561778648642429| 0.07879144823615387|-0.6802701902977786|   4.134849286747366|  -0.537575038603576|-0.11531872190862107| -0.7722784860110302|\n",
      "|007dnwwA3q2fhQ4AC...| -0.7551128725349482|  1.337672203520207| 0.7516530125809598|  0.261699250217587| 0.7475739658718707|-1.0875102051036012|  1.0402918833479535|  1.0306260742683657|-0.6808999947259956|   1.232268386015678|  1.3832377616660256|-0.37424005511353325| -0.6367480823954612|\n",
      "|007qEKeXFHJ2r7rMU...|   0.982371966490592|0.21338379744317754|-1.3304002657497414|  0.261699250217587|-0.4518427265061198|-0.9399120291317268|  0.8455292623474779|-0.00488632108535...|-0.6808999947259956| 0.29667920247886254|   0.770536242734248|  1.1801626783497403|   0.586688534026162|\n",
      "|00841Yho1fVUDDfA9...| -0.7551128725349482| 1.6187443050394645|-1.3304002657497414|  2.168846373990083| 2.0873746057128186| 0.2673990294851904|  0.3761014066027428| -1.4863314954483153|-0.6808999947259956| 0.15014113758755407| -2.2836379563936897|   7.539480558078495|  0.6013404695521694|\n",
      "|0099y8U9Px3fIJX5L...| -0.7551128725349482|-0.6298325071145946| 0.7516530125809598|  0.261699250217587|-0.8490418671657068| 0.8924589206116342|0.016539644755711763|  -0.217567318110872|-0.6808999947259956| -0.7386685867724209|  0.6537970032471294| -0.5964225504988295|0.059218855089893344|\n",
      "|009BdcwF2lB7RZiTS...|0.009380456636289518|  1.337672203520207| 0.7516530125809598|  0.261699250217587|-1.2825659728444987|  1.268020115700212| -1.5915004568379563| -1.1310496332040574| 0.1905104425915138| 0.47703374388354974|-0.04175634985939296|  -0.530817482963801| -0.9261238090341086|\n",
      "|009ltBhNaq5XDC4f3...|-0.06011893692473209| 1.0566001020009497|-1.3304002657497414|-1.6454478735549092| 1.3331944282614105| 1.3100409487171158| -0.4279186441940909|   -1.34373063022957|-0.6808999947259956|   -0.64398245253496| -0.5914215512821362| -0.4582145415583696| -0.3986541300978399|\n",
      "|00AYIzevROJfCstNK...| 0.42637681800241917| 0.7755280004816923|-1.3304002657497414|  0.261699250217587|-0.8905466864156245|-0.8592845557805426|-0.03339948883415374|  1.3409311355023108|-0.6808999947259956| -0.6400371969417324|  1.1062513004475116|  1.7224979033059749|  0.7295449054047348|\n",
      "|00B1efLzCB1lUNPT8...| -0.5466146918518834|-1.4730488116723668| 0.7516530125809598|  0.261699250217587| 1.7870090457356707| 1.0946841795054836|-0.26311950334753503| -0.5662246902838436|-0.6808887831213036| -0.5678953803798575|  0.4796214835695464|-0.03659264086658...| -0.5891292919359371|\n",
      "|00BhvVsOJkBMJVyoj...|  0.7043743922465056| 0.4944558989624349|-1.3304002657497414|  0.261699250217587|-1.1646170628139292| 0.7270018906075755| 0.43103445355159486| 0.45185483646123337|-0.6808022664526516| -0.5746586756825333|  0.9607939208651609| -0.3375012172939173|  -0.424295017268353|\n",
      "|00CNYGlhmuXQcJU81...| -0.6161140854129049| -0.910904608633852| 0.7516530125809598| -5.459742121099901|0.23038036765111422|-1.0108221848477519|-0.16324123616780403|   0.797025634912475| -0.676665102881088| -0.1034824362627876| 0.19114776631293967|  -0.509823861352592| 0.33027966232103145|\n",
      "|00CYT9MwnEJva7cCy...| -0.1296183304857537|-1.1919767101531094| 0.7516530125809598|  0.261699250217587|-0.4002421404116276| 0.9239745453743121|  1.6445553997853255| -0.9567209471175717|-0.6808999947259956|-0.37965032778871505|  0.6032530766795209| -0.5010765190145882|-0.01037783865864...|\n",
      "|00CZIZmqtInPEWdxG...| 0.14837924375833272|-0.3487604055953372| 0.7516530125809598|  2.168846373990083|-1.1046033376822912| 1.3809511044331408| -0.8274317129130146| -0.9706672420044905|-0.6808999947259956| -0.7059793261428212| 0.16041935641104124| -0.3051360506433033| -0.6880298567364874|\n",
      "+--------------------+--------------------+-------------------+-------------------+-------------------+-------------------+-------------------+--------------------+--------------------+-------------------+--------------------+--------------------+--------------------+--------------------+\n",
      "only showing top 20 rows\n",
      "\n"
     ]
    },
    {
     "name": "stderr",
     "output_type": "stream",
     "text": [
      "                                                                                \r"
     ]
    }
   ],
   "source": [
    "from pyspark.sql.functions import mean, stddev\n",
    "\n",
    "raw_scaled_df = df\n",
    "\n",
    "# Standard Scaling\n",
    "for col_name in df.columns[1:]:\n",
    "    mean_val = df.select(mean(col_name)).collect()[0][0]\n",
    "    stds_val = df.select(stddev(col_name)).collect()[0][0]\n",
    "    raw_scaled_df = raw_scaled_df.withColumn(col_name, (col(col_name) - mean_val) / stds_val)\n",
    "\n",
    "raw_scaled_df.show()"
   ]
  },
  {
   "cell_type": "code",
   "execution_count": 25,
   "metadata": {},
   "outputs": [],
   "source": [
    "from pyspark.sql.functions import col\n",
    "\n",
    "scaled_train = raw_scaled_df.filter(col(\"id\").isin(track_list))\n",
    "scaled_test = raw_scaled_df.filter(~col(\"id\").isin(track_list))"
   ]
  },
  {
   "cell_type": "code",
   "execution_count": 26,
   "metadata": {},
   "outputs": [
    {
     "name": "stderr",
     "output_type": "stream",
     "text": [
      "                                                                                \r"
     ]
    },
    {
     "name": "stdout",
     "output_type": "stream",
     "text": [
      "Cluster Centers:\n",
      "[ 3.44960044  0.93167917  0.05763525  0.26169925 -0.2302839  -0.54080852\n",
      "  0.31589701  0.58395724 -0.68087422 -0.37345064  0.78684974 -0.27797069\n",
      " -0.12108135]\n",
      "[ 1.02580909  0.56472392  0.49139635  0.02330586 -0.36341404 -0.40224234\n",
      "  0.23627183  0.67630302 -0.68086871  0.80533537  0.88679086  0.10314615\n",
      " -0.0584545 ]\n",
      "[ 3.79941405 -0.64857065  0.61284946  0.13455611 -0.03550122  0.27140852\n",
      " -0.25779266 -0.05788224 -0.60214521 -0.21218362  0.65842062 -0.42427485\n",
      " -0.31000992]\n",
      "[ 2.08509568 -0.49866553  0.33524236  0.13455611  1.29277837 -0.67094787\n",
      " -0.41560032  0.65477343 -0.5984292  -0.28905974  0.78001323 -0.30641899\n",
      " -0.2470066 ]\n"
     ]
    },
    {
     "name": "stderr",
     "output_type": "stream",
     "text": [
      "[Stage 686:===================================================>   (16 + 1) / 17]\r"
     ]
    },
    {
     "name": "stdout",
     "output_type": "stream",
     "text": [
      "+--------------------+--------------------+-------------------+-------------------+-------------------+-------------------+-------------------+--------------------+--------------------+-------------------+--------------------+--------------------+--------------------+--------------------+--------------------+----------+\n",
      "|                  id|          popularity|                key|               mode|     time_signature|              tempo|       acousticness|        danceability|              energy|   instrumentalness|            liveness|            loudness|         speechiness|             valence|            features|prediction|\n",
      "+--------------------+--------------------+-------------------+-------------------+-------------------+-------------------+-------------------+--------------------+--------------------+-------------------+--------------------+--------------------+--------------------+--------------------+--------------------+----------+\n",
      "|000O8nXpAK5QAppKv...| -0.4076159047298401|-1.1919767101531094| 0.7516530125809598|  0.261699250217587|0.35657745320829687|-1.1337016057974327|-0.16823514952679058|  1.4141491836586348|-0.6518529801487454| 0.46012550562686055|  1.1974313952498736|-0.34274962269671955| -0.3290574363493046|[-0.4076159047298...|         1|\n",
      "|000kSCs9tKtH1VXI3...|0.009380456636289518| -0.910904608633852| 0.7516530125809598|  0.261699250217587|0.41702008346731845| 1.1314524083952744| -0.5627543048867277| -0.9009357675698961|-0.6808999947259956| -0.5662045565541886|  0.6372840726923709| -0.5194459379243961| -0.7026817922624948|[0.00938045663628...|         3|\n",
      "|0010mZpCCwlPwoBiB...|   1.885864082783873|-0.6298325071145946| 0.7516530125809598|-1.6454478735549092| 0.2567745293362765|-0.8514056495898732|-0.05337514227009...|  0.9364885837816638|-0.6808910905944243|-0.31201737476195734|  0.9198705712294551| -0.5063249244173904|  0.5573846629741469|[1.88586408278387...|         3|\n",
      "|0026hQeV7FZ0PaZpW...|   0.634874998685484| 1.6187443050394645| 0.7516530125809598|  0.261699250217587| 1.7204957582890619| -0.268366591480333| -0.2880890701424678|  0.7412404553647995|-0.6808999947259956|  1.4069868480014691|  0.6039710301819017|  1.0751945702936947| -0.8931569541005918|[0.63487499868548...|         1|\n",
      "|003Zj5utQfbYDofOq...|  0.5653756051244624|-1.1919767101531094| 0.7516530125809598|  0.261699250217587|-0.8986958838359184|-1.1043185383103629|  0.8405353489884915|-0.16178213856319668|-0.6236203678493618| -0.4698275984910587| 0.48680101859335445| -0.4345967172457594|  -1.311103414979955|[0.56537560512446...|         1|\n",
      "|003heort6ZPgg46RM...| -0.6161140854129049| 0.7755280004816923| 0.7516530125809598|  0.261699250217587|-1.1786389612091717| 1.1918573558570738|  0.9104501360143031| -1.0229658478304364| 1.5071274584762242|-0.45855543965326584| -0.4596052882450206| -0.4958281136117859|  1.0885173257919176|[-0.6161140854129...|         1|\n",
      "|004zTdXYH400nJeJH...| -0.5466146918518834| 0.7755280004816923|-1.3304002657497414|  2.168846373990083| 1.6783640776991209| 1.3756985003060278|  -1.416713489273427| -1.3646500725599484|  0.692725180609393| -0.8085559715667372| -2.2747353329641684|-0.08732722642700899|  -1.372275245801036|[-0.5466146918518...|         3|\n",
      "|006x4IC6Fm1xjYtns...| -0.7551128725349482|0.21338379744317754|-1.3304002657497414|-1.6454478735549092| -1.779304095759254| 1.2601412095095426| -1.8561778648642429| 0.07879144823615387|-0.6802701902977786|   4.134849286747366|  -0.537575038603576|-0.11531872190862107| -0.7722784860110302|[-0.7551128725349...|         1|\n",
      "|007dnwwA3q2fhQ4AC...| -0.7551128725349482|  1.337672203520207| 0.7516530125809598|  0.261699250217587| 0.7475739658718707|-1.0875102051036012|  1.0402918833479535|  1.0306260742683657|-0.6808999947259956|   1.232268386015678|  1.3832377616660256|-0.37424005511353325| -0.6367480823954612|[-0.7551128725349...|         1|\n",
      "|007qEKeXFHJ2r7rMU...|   0.982371966490592|0.21338379744317754|-1.3304002657497414|  0.261699250217587|-0.4518427265061198|-0.9399120291317268|  0.8455292623474779|-0.00488632108535...|-0.6808999947259956| 0.29667920247886254|   0.770536242734248|  1.1801626783497403|   0.586688534026162|[0.98237196649059...|         1|\n",
      "|00841Yho1fVUDDfA9...| -0.7551128725349482| 1.6187443050394645|-1.3304002657497414|  2.168846373990083| 2.0873746057128186| 0.2673990294851904|  0.3761014066027428| -1.4863314954483153|-0.6808999947259956| 0.15014113758755407| -2.2836379563936897|   7.539480558078495|  0.6013404695521694|[-0.7551128725349...|         1|\n",
      "|0099y8U9Px3fIJX5L...| -0.7551128725349482|-0.6298325071145946| 0.7516530125809598|  0.261699250217587|-0.8490418671657068| 0.8924589206116342|0.016539644755711763|  -0.217567318110872|-0.6808999947259956| -0.7386685867724209|  0.6537970032471294| -0.5964225504988295|0.059218855089893344|[-0.7551128725349...|         1|\n",
      "|009BdcwF2lB7RZiTS...|0.009380456636289518|  1.337672203520207| 0.7516530125809598|  0.261699250217587|-1.2825659728444987|  1.268020115700212| -1.5915004568379563| -1.1310496332040574| 0.1905104425915138| 0.47703374388354974|-0.04175634985939296|  -0.530817482963801| -0.9261238090341086|[0.00938045663628...|         1|\n",
      "|009ltBhNaq5XDC4f3...|-0.06011893692473209| 1.0566001020009497|-1.3304002657497414|-1.6454478735549092| 1.3331944282614105| 1.3100409487171158| -0.4279186441940909|   -1.34373063022957|-0.6808999947259956|   -0.64398245253496| -0.5914215512821362| -0.4582145415583696| -0.3986541300978399|[-0.0601189369247...|         1|\n",
      "|00AYIzevROJfCstNK...| 0.42637681800241917| 0.7755280004816923|-1.3304002657497414|  0.261699250217587|-0.8905466864156245|-0.8592845557805426|-0.03339948883415374|  1.3409311355023108|-0.6808999947259956| -0.6400371969417324|  1.1062513004475116|  1.7224979033059749|  0.7295449054047348|[0.42637681800241...|         1|\n",
      "|00B1efLzCB1lUNPT8...| -0.5466146918518834|-1.4730488116723668| 0.7516530125809598|  0.261699250217587| 1.7870090457356707| 1.0946841795054836|-0.26311950334753503| -0.5662246902838436|-0.6808887831213036| -0.5678953803798575|  0.4796214835695464|-0.03659264086658...| -0.5891292919359371|[-0.5466146918518...|         3|\n",
      "|00BhvVsOJkBMJVyoj...|  0.7043743922465056| 0.4944558989624349|-1.3304002657497414|  0.261699250217587|-1.1646170628139292| 0.7270018906075755| 0.43103445355159486| 0.45185483646123337|-0.6808022664526516| -0.5746586756825333|  0.9607939208651609| -0.3375012172939173|  -0.424295017268353|[0.70437439224650...|         1|\n",
      "|00CNYGlhmuXQcJU81...| -0.6161140854129049| -0.910904608633852| 0.7516530125809598| -5.459742121099901|0.23038036765111422|-1.0108221848477519|-0.16324123616780403|   0.797025634912475| -0.676665102881088| -0.1034824362627876| 0.19114776631293967|  -0.509823861352592| 0.33027966232103145|[-0.6161140854129...|         1|\n",
      "|00CYT9MwnEJva7cCy...| -0.1296183304857537|-1.1919767101531094| 0.7516530125809598|  0.261699250217587|-0.4002421404116276| 0.9239745453743121|  1.6445553997853255| -0.9567209471175717|-0.6808999947259956|-0.37965032778871505|  0.6032530766795209| -0.5010765190145882|-0.01037783865864...|[-0.1296183304857...|         1|\n",
      "|00CZIZmqtInPEWdxG...| 0.14837924375833272|-0.3487604055953372| 0.7516530125809598|  2.168846373990083|-1.1046033376822912| 1.3809511044331408| -0.8274317129130146| -0.9706672420044905|-0.6808999947259956| -0.7059793261428212| 0.16041935641104124| -0.3051360506433033| -0.6880298567364874|[0.14837924375833...|         1|\n",
      "+--------------------+--------------------+-------------------+-------------------+-------------------+-------------------+-------------------+--------------------+--------------------+-------------------+--------------------+--------------------+--------------------+--------------------+--------------------+----------+\n",
      "only showing top 20 rows\n",
      "\n"
     ]
    },
    {
     "name": "stderr",
     "output_type": "stream",
     "text": [
      "                                                                                \r"
     ]
    }
   ],
   "source": [
    "from pyspark.ml.feature import VectorAssembler\n",
    "from pyspark.ml.clustering import KMeans\n",
    "\n",
    "selected_features = [\"popularity\", \"key\", \"mode\", \"time_signature\", \"tempo\", \"acousticness\", \"danceability\", \"energy\", \"instrumentalness\", \"liveness\", \"loudness\", \"speechiness\", \"valence\"]\n",
    "\n",
    "# Define Assembler\n",
    "assembler = VectorAssembler(inputCols=selected_features, outputCol=\"features\")\n",
    "\n",
    "# Assemble Features\n",
    "df_assembled_train = assembler.transform(scaled_train)\n",
    "df_assembled_test = assembler.transform(scaled_test)\n",
    "\n",
    "# Create Model == Train Dataset\n",
    "kmeans = KMeans(featuresCol=\"features\", k=4, seed=1)\n",
    "model = kmeans.fit(df_assembled_train)\n",
    "\n",
    "# Check Centers\n",
    "centers = model.clusterCenters()\n",
    "print(\"Cluster Centers:\")\n",
    "for center in centers:\n",
    "    print(center)\n",
    "\n",
    "# Test Dataset\n",
    "df_result = model.transform(df_assembled_test)\n",
    "df_result.show()"
   ]
  },
  {
   "cell_type": "code",
   "execution_count": 11,
   "metadata": {},
   "outputs": [
    {
     "data": {
      "text/plain": [
       "'euclidean'"
      ]
     },
     "execution_count": 11,
     "metadata": {},
     "output_type": "execute_result"
    }
   ],
   "source": [
    "model.getDistanceMeasure()"
   ]
  },
  {
   "cell_type": "code",
   "execution_count": 17,
   "metadata": {},
   "outputs": [
    {
     "name": "stderr",
     "output_type": "stream",
     "text": [
      "[Stage 887:>                                                        (0 + 1) / 1]\r"
     ]
    },
    {
     "name": "stdout",
     "output_type": "stream",
     "text": [
      "+--------------------+--------------------+------------------+\n",
      "|                  id|            features|          distance|\n",
      "+--------------------+--------------------+------------------+\n",
      "|000kSCs9tKtH1VXI3...|[0.00932728974916...| 2.679730034605562|\n",
      "|0010mZpCCwlPwoBiB...|[1.88576919962963...| 2.516595387109374|\n",
      "|003Zj5utQfbYDofOq...|[0.56531007786189...| 2.813559663794831|\n",
      "|0099y8U9Px3fIJX5L...|[-0.7551490439058...|3.2147991916433445|\n",
      "|009BdcwF2lB7RZiTS...|[0.00932728974916...| 4.012952033482548|\n",
      "|00B1efLzCB1lUNPT8...|[-0.5466554983635...|3.5230749456986974|\n",
      "|00CYT9MwnEJva7cCy...|[-0.1296684072790...|3.3332530097812096|\n",
      "|00CZIZmqtInPEWdxG...|[0.14832298677734...|3.6987545826728816|\n",
      "|00DxOoAYGMwVBTdhu...|[2.58074768477055...| 2.794095131817052|\n",
      "|00FjRu5wKkgDfiHog...|[0.77380362340417...| 4.924506791931357|\n",
      "|00JK3hvSqMRgTs0BO...|[-0.7551490439058...| 5.681175045657208|\n",
      "|00JOPzHXgTnWpxYzO...|[-0.6161533468776...|  4.59888989364851|\n",
      "|00L5ETjPbcP9TKG0s...|[0.28731868380553...|3.2198471883856934|\n",
      "|00Mo0jFF8Fp2aT2Ux...|[-0.7551490439058...| 6.107084332544413|\n",
      "|00OLovk3yd1TTjzuS...|[-0.7551490439058...| 5.840768704866321|\n",
      "|00OgsbNMClpwyREPh...|[-0.6161533468776...|3.6238337455972114|\n",
      "|00Pgipy0zwSHqTU8p...|[-0.4076598013353...| 3.567723131700148|\n",
      "|00VF6mDBAPqE7cG03...|[-0.6856511953917...| 4.605826564515208|\n",
      "|00XwwwLboc71lIyYC...|[-0.7551490439058...| 5.278625538259338|\n",
      "|00duMmf0bqbY8iEy4...|[0.42631438083371...| 4.056051352532506|\n",
      "+--------------------+--------------------+------------------+\n",
      "only showing top 20 rows\n",
      "\n"
     ]
    },
    {
     "name": "stderr",
     "output_type": "stream",
     "text": [
      "                                                                                \r"
     ]
    }
   ],
   "source": [
    "# TEST <- \n",
    "\n",
    "from pyspark.sql.functions import col\n",
    "from pyspark.sql.functions import udf\n",
    "from pyspark.sql.types import DoubleType\n",
    "import numpy as np\n",
    "\n",
    "numpy_coordinates = centers[0]\n",
    "\n",
    "def calculate_distance(vector):\n",
    "    return float(np.linalg.norm(vector.toArray() - numpy_coordinates))\n",
    "\n",
    "calculate_distance_udf = udf(calculate_distance, DoubleType())\n",
    "\n",
    "df_with_distance = df_result \\\n",
    "    .filter(\"prediction=0\") \\\n",
    "    .select(\"id\", \"features\") \\\n",
    "    .withColumn('distance', calculate_distance_udf(col('features')))"
   ]
  },
  {
   "cell_type": "code",
   "execution_count": 20,
   "metadata": {},
   "outputs": [
    {
     "name": "stderr",
     "output_type": "stream",
     "text": [
      "[Stage 920:==================================================>    (31 + 3) / 34]\r"
     ]
    },
    {
     "name": "stdout",
     "output_type": "stream",
     "text": [
      "+--------------------+--------------------+------------------+\n",
      "|                  id|            features|          distance|\n",
      "+--------------------+--------------------+------------------+\n",
      "|2kLaIBv7OwCNbrDlf...|[2.02476489665782...|0.6357580389694055|\n",
      "|1NghJBnRfOjjH7ffK...|[1.95526704814372...|0.6773515540748449|\n",
      "|1725ZPzVwEYaFTztQ...|[2.09426274517191...|0.6849070037733087|\n",
      "|6XLdLztXhlGZsdp7s...|[1.67727565408736...|  0.71556916592349|\n",
      "|0Cwgls4XXwoIhR0Kk...|[2.02476489665782...|0.7228839190108275|\n",
      "|6cfGK1pbi8f7ODCeK...|[1.95526704814372...| 0.731438903134188|\n",
      "|6ZyAlU7tYUGrto7hc...|[2.09426274517191...|0.7427190547223598|\n",
      "|0iq3HEoB7LZIF4kwY...|[1.81627135111554...|0.7518801998154157|\n",
      "|1JjK0xXcFxQqF6LRB...|[1.53827995705918...|0.7670359113729857|\n",
      "|1ntlpw8zsYg1O0nJU...|[1.67727565408736...|0.7871181984300836|\n",
      "|7lHjxYXlvS3GOPy1Z...|[1.74677350260145...|0.7938864450373423|\n",
      "|5rUDkGoOp21WT7y8C...|[1.81627135111554...|0.7945844290277523|\n",
      "|4gQLLI4oii6Dt4IpB...|[2.09426274517191...|0.7953099037050585|\n",
      "|75PNvxakeoKFP7dxd...|[2.30275629071418...|0.8000696228292744|\n",
      "|1LgahI7nRE5oQ9q7B...|[1.46878210854508...|0.8077444526355536|\n",
      "|1h8rTyoDbAZPAzNJn...|[1.32978641151690...|0.8157937585089595|\n",
      "|5vzUmH3eK8uvKpjxv...|[1.81627135111554...|0.8189636720936392|\n",
      "|37dkyQQNJLaqk09kk...|[2.23325844220009...|0.8217747784133187|\n",
      "|6doAIiqd1YfmxIoZu...|[1.81627135111554...|0.8279024101451394|\n",
      "|7358un4Y2JUCStFzR...|[2.23325844220009...|0.8372844656028288|\n",
      "+--------------------+--------------------+------------------+\n",
      "only showing top 20 rows\n",
      "\n"
     ]
    },
    {
     "name": "stderr",
     "output_type": "stream",
     "text": [
      "                                                                                \r"
     ]
    }
   ],
   "source": [
    "# TEST <-\n",
    "\n",
    "df_with_distance\\\n",
    "    .orderBy(\"distance\", ascending=True)\\\n",
    "    .show()"
   ]
  },
  {
   "cell_type": "code",
   "execution_count": 27,
   "metadata": {},
   "outputs": [
    {
     "name": "stderr",
     "output_type": "stream",
     "text": [
      "                                                                                \r"
     ]
    },
    {
     "name": "stdout",
     "output_type": "stream",
     "text": [
      "['1z7PADWKXVsbEitOVLlC69', '3DE0Qm4jInax5ybEdfduJz', '3I8MbKRkS2IBDuslhCS3iT', '3WQYdKHLbXQGitt7exmMXW', '3N260ZBbFQOypRyKSQaIGB']\n"
     ]
    },
    {
     "name": "stderr",
     "output_type": "stream",
     "text": [
      "                                                                                \r"
     ]
    },
    {
     "name": "stdout",
     "output_type": "stream",
     "text": [
      "['5wzc8GmqDPBOF0VM6A6Y7l', '1Hq1nm9RwDzTB2Cd3V1iIT', '4FcvYEVtmB0UuIPbdzwqsH', '48YvymrMHLk73cHb713vyL', '0LZoeKqRtI12E1LP5s4Zko']\n"
     ]
    },
    {
     "name": "stderr",
     "output_type": "stream",
     "text": [
      "                                                                                \r"
     ]
    },
    {
     "name": "stdout",
     "output_type": "stream",
     "text": [
      "['4Cw1fQBX3TaiZQwOAyddnj', '5B8N5rPOmTVVGpuBMK2Vby', '5g30WoqK1Dv5Bnwpusp2vk', '1urmwhtXPiakhcqvqUi3rp', '1Fl4vSE3PegDGtkNL7JXNl']\n"
     ]
    },
    {
     "name": "stderr",
     "output_type": "stream",
     "text": [
      "[Stage 729:==================================================>    (31 + 3) / 34]\r"
     ]
    },
    {
     "name": "stdout",
     "output_type": "stream",
     "text": [
      "['1P7xMiKHrAl4e5Vbi6NbPf', '1wL8YMQiZNB9ab5Mfl2InA', '5w5fbyYHo5129Ce4c7qeWa', '5SVGGGHyZaRPwvJtVMgCgr', '2TKSH16Qb0zVRcqrHc3D3h']\n"
     ]
    },
    {
     "name": "stderr",
     "output_type": "stream",
     "text": [
      "                                                                                \r"
     ]
    }
   ],
   "source": [
    "from pyspark.sql.functions import col\n",
    "from pyspark.sql.functions import udf\n",
    "from pyspark.sql.types import DoubleType\n",
    "import numpy as np\n",
    "\n",
    "def calculate_distance(vector):\n",
    "    return float(np.linalg.norm(vector.toArray() - numpy_coordinates))\n",
    "\n",
    "calculate_distance_udf = udf(calculate_distance, DoubleType())\n",
    "\n",
    "recommend_list = []\n",
    "for i in range(4):\n",
    "    numpy_coordinates = centers[i]\n",
    "    df_with_distance = df_result \\\n",
    "        .filter(f\"prediction={i}\") \\\n",
    "        .select(\"id\", \"features\") \\\n",
    "        .withColumn('distance', calculate_distance_udf(col('features'))) \\\n",
    "        .orderBy(\"distance\", ascending=True)\n",
    "    \n",
    "    collect_list = [row.id for row in df_with_distance.limit(5).collect()]\n",
    "\n",
    "    print(collect_list)\n",
    "    recommend_list += collect_list\n",
    "    "
   ]
  },
  {
   "cell_type": "code",
   "execution_count": 28,
   "metadata": {},
   "outputs": [
    {
     "name": "stdout",
     "output_type": "stream",
     "text": [
      "['1z7PADWKXVsbEitOVLlC69', '3DE0Qm4jInax5ybEdfduJz', '3I8MbKRkS2IBDuslhCS3iT', '3WQYdKHLbXQGitt7exmMXW', '3N260ZBbFQOypRyKSQaIGB', '5wzc8GmqDPBOF0VM6A6Y7l', '1Hq1nm9RwDzTB2Cd3V1iIT', '4FcvYEVtmB0UuIPbdzwqsH', '48YvymrMHLk73cHb713vyL', '0LZoeKqRtI12E1LP5s4Zko', '4Cw1fQBX3TaiZQwOAyddnj', '5B8N5rPOmTVVGpuBMK2Vby', '5g30WoqK1Dv5Bnwpusp2vk', '1urmwhtXPiakhcqvqUi3rp', '1Fl4vSE3PegDGtkNL7JXNl', '1P7xMiKHrAl4e5Vbi6NbPf', '1wL8YMQiZNB9ab5Mfl2InA', '5w5fbyYHo5129Ce4c7qeWa', '5SVGGGHyZaRPwvJtVMgCgr', '2TKSH16Qb0zVRcqrHc3D3h']\n"
     ]
    }
   ],
   "source": [
    "print(recommend_list)"
   ]
  },
  {
   "cell_type": "code",
   "execution_count": null,
   "metadata": {},
   "outputs": [],
   "source": []
  },
  {
   "cell_type": "code",
   "execution_count": 1,
   "metadata": {},
   "outputs": [
    {
     "data": {
      "text/plain": [
       "True"
      ]
     },
     "execution_count": 1,
     "metadata": {},
     "output_type": "execute_result"
    }
   ],
   "source": [
    "import requests\n",
    "from urllib.parse import urlencode\n",
    "import base64\n",
    "import webbrowser\n",
    "\n",
    "client_id = \"67634b8925dc48f79e59045d9e4d5014\"\n",
    "\n",
    "auth_headers = {\n",
    "    \"client_id\": client_id,\n",
    "    \"response_type\": \"code\",\n",
    "    \"redirect_uri\": \"http://localhost:7777/callback\",\n",
    "    \"scope\": \"playlist-modify-private\"\n",
    "}\n",
    "\n",
    "webbrowser.open(\"https://accounts.spotify.com/authorize?\" + urlencode(auth_headers))"
   ]
  },
  {
   "cell_type": "code",
   "execution_count": 71,
   "metadata": {},
   "outputs": [],
   "source": [
    "code = config.read(\"spotify\", \"auth_code\")\n",
    "\n",
    "encoded_credentials = base64.b64encode(client_id.encode() + b':' + client_sc.encode()).decode(\"utf-8\")\n",
    "\n",
    "token_headers = {\n",
    "    \"Authorization\": \"Basic \" + encoded_credentials,\n",
    "    \"Content-Type\": \"application/x-www-form-urlencoded\"\n",
    "}\n",
    "\n",
    "token_data = {\n",
    "    \"grant_type\": \"authorization_code\",\n",
    "    \"code\": code,\n",
    "    \"redirect_uri\": \"http://localhost:7777/callback\"\n",
    "}\n",
    "\n",
    "r = requests.post(\"https://accounts.spotify.com/api/token\", data=token_data, headers=token_headers)\n",
    "\n",
    "token = r.json()[\"access_token\"]\n"
   ]
  },
  {
   "cell_type": "code",
   "execution_count": 81,
   "metadata": {},
   "outputs": [
    {
     "name": "stdout",
     "output_type": "stream",
     "text": [
      "<Response [201]>\n",
      "{'collaborative': False, 'description': '고객님의 플레이리스트 기록을 기반으로 매주 음악을 추천해 드립니다 :)', 'external_urls': {'spotify': 'https://open.spotify.com/playlist/0Fm15h3d02WvOgolmgfknJ'}, 'followers': {'href': None, 'total': 0}, 'href': 'https://api.spotify.com/v1/playlists/0Fm15h3d02WvOgolmgfknJ', 'id': '0Fm15h3d02WvOgolmgfknJ', 'images': [], 'name': '2024년 01월 2주차 추천 플레이리스트', 'owner': {'display_name': '김도훈', 'external_urls': {'spotify': 'https://open.spotify.com/user/31mzlax4yqsypo4tvfxade6tsuke'}, 'href': 'https://api.spotify.com/v1/users/31mzlax4yqsypo4tvfxade6tsuke', 'id': '31mzlax4yqsypo4tvfxade6tsuke', 'type': 'user', 'uri': 'spotify:user:31mzlax4yqsypo4tvfxade6tsuke'}, 'primary_color': None, 'public': False, 'snapshot_id': 'MSxlZmQzOTQ1YWNmZmI4OTIyNmIwMWM5Y2I5ZmNkNWVmYTExYTE2Mzhm', 'tracks': {'href': 'https://api.spotify.com/v1/playlists/0Fm15h3d02WvOgolmgfknJ/tracks', 'items': [], 'limit': 100, 'next': None, 'offset': 0, 'previous': None, 'total': 0}, 'type': 'playlist', 'uri': 'spotify:playlist:0Fm15h3d02WvOgolmgfknJ'}\n"
     ]
    }
   ],
   "source": [
    "from datetime import datetime\n",
    "\n",
    "today = datetime.now()\n",
    "first_day_of_month = today.replace(day=1)\n",
    "day_difference = (today - first_day_of_month).days\n",
    "week_number = (day_difference // 7) + 1\n",
    "year = today.strftime(\"%Y\")\n",
    "month = today.strftime(\"%m\")\n",
    "\n",
    "endpoint = f\"users/{user_id}/playlists\"\n",
    "playlist_name = f\"{year}년 {month}월 {week_number}주차 추천 플레이리스트\"\n",
    "playlist_description = \"고객님의 플레이리스트 기록을 기반으로 매주 음악을 추천해 드립니다 :)\"\n",
    "data = {\n",
    "    \"name\": playlist_name,\n",
    "    \"description\": playlist_description,\n",
    "    \"public\": False\n",
    "}\n",
    "\n",
    "returned = post_response(access_token=token, endpoint=endpoint, data=data)\n",
    "print(returned)"
   ]
  },
  {
   "cell_type": "code",
   "execution_count": 83,
   "metadata": {},
   "outputs": [
    {
     "name": "stdout",
     "output_type": "stream",
     "text": [
      "0Fm15h3d02WvOgolmgfknJ\n"
     ]
    }
   ],
   "source": [
    "playlist_id = returned[\"id\"]"
   ]
  },
  {
   "cell_type": "code",
   "execution_count": 84,
   "metadata": {},
   "outputs": [
    {
     "name": "stdout",
     "output_type": "stream",
     "text": [
      "<Response [201]>\n"
     ]
    },
    {
     "data": {
      "text/plain": [
       "{'snapshot_id': 'Myw5OGVlMjA4YjJkNWM2NmJiZWM3NGU4YjA0YzY5YThlYzI5Njc3MzE3'}"
      ]
     },
     "execution_count": 84,
     "metadata": {},
     "output_type": "execute_result"
    }
   ],
   "source": [
    "endpoint = f\"playlists/{playlist_id}/tracks\"\n",
    "data = {\n",
    "    \"uris\": [f\"spotify:track:{track_id}\" for track_id in recommend_list],\n",
    "    \"position\": 0\n",
    "}\n",
    "\n",
    "post_response(access_token=token, endpoint=endpoint, data=data)"
   ]
  },
  {
   "cell_type": "code",
   "execution_count": null,
   "metadata": {},
   "outputs": [],
   "source": []
  },
  {
   "cell_type": "code",
   "execution_count": 19,
   "metadata": {},
   "outputs": [],
   "source": [
    "spark.stop()"
   ]
  }
 ],
 "metadata": {
  "kernelspec": {
   "display_name": "Python 3",
   "language": "python",
   "name": "python3"
  },
  "language_info": {
   "codemirror_mode": {
    "name": "ipython",
    "version": 3
   },
   "file_extension": ".py",
   "mimetype": "text/x-python",
   "name": "python",
   "nbconvert_exporter": "python",
   "pygments_lexer": "ipython3",
   "version": "3.10.12"
  },
  "orig_nbformat": 4
 },
 "nbformat": 4,
 "nbformat_minor": 2
}
